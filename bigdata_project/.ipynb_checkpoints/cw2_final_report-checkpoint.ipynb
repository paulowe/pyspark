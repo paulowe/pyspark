{
 "cells": [
  {
   "cell_type": "markdown",
   "metadata": {},
   "source": [
    "# AI driven application for predicting faulty water pumps across Tanzania\n",
    "\n",
    "## 0. Table of contents\n",
    "1. [Introduction](#1.-Introduction)\n",
    "2. [Objectives](#2.-Objectives) \n",
    "3. [Methodology](#3.-Methodology) \n",
    "4. [Expected Outcomes](#4.-Expected-Outcomes)   \n",
    "5. [Exploratory Data Analysis](#5.-Exploratory-Data-Analysis) \n",
    "6. [Modeling](#6.-Modeling) \n",
    "\n",
    "7. [Conclusion](#7.-Conclusions)\n",
    "\n",
    "8. [References](#8.-References) \n",
    "\n",
    "    \n",
    "\n",
    "## 1. Introduction\n",
    "\n",
    "AI can play an important role in addressing Tanzania’s water and sanitation crisis. 16 million people (28% of the population) lack access to safe water, and over half the population lack access to safely managed sanitation facilities. People living under these circumstances spend a significant amount of time traveling long distances to collect water. Other factors such as extreme weather events due to climate change create additional challenges for those living in poverty. [1] Although there are multiple waterpoints established, a lot of them are in need of repair while others have failed altogether. Therefore, there is a strong opportunity to improve maintenance of existing facilities and scale these efforts to meet the demand for a robust water infrastructure. \n",
    "\n",
    "##  2. Objectives\n",
    "This project aims to leverage a data-driven approach to gain insights into and mitigate faulty water infrastructure in Tanzania. Specifically, the project will focus on the development of a powerful ensemble model that utilizes machine learning algorithms to accurately predict the operating conditions of water pumps across multiple water-points. The model will be trained on a large dataset of historical water pump sensor data, collected from Taarifa and the Tanzanian Ministry of Water. [2] The dataset is available for download from [GitHub](https://github.com/drivendataorg/pump-it-up/tree/master/data) \n",
    "\n",
    "The developed ensemble model will take into account a range of variables, including water pump usage patterns, population around the well, water quality measurements, and maintenance records, to accurately predict the condition of the waterpoint as one of the following classes: functional, functional needs repair, or non functional. This predictive capability will enable proactive maintenance and repairs to be carried out, reducing the incidence of breakdowns and increasing the overall reliability of the water supply.\n",
    "\n",
    "In addition to the technical aspects of the project, close collaboration with local water authorities and communities to ensure the model is tailored to the specific needs and context of the Tanzanian water infrastructure can promote its adoption. This can be done by conducting surveys, identifying focus groups, and exploring other forms of community engagement to gain insights into the challenges and priorities of water users and stakeholders. Ultimately, the project aims to deliver tangible benefits to communities in Tanzania by improving the reliability and accessibility of safe water supplies.\n",
    "\n",
    "##  3. Methodology\n",
    "The architecture below illustrates an overview of the methodology used in this project.\n",
    "\n",
    "<img src=\"TZWaterPumpClassficationMethodology.drawio.png\"/>\n",
    "\n",
    "Data collection: The data collection process involves retrieving data from the Ministry of Water in Tanzania. The data is then stored on the  Hadoop Distributed File System (HDFS) within the University of London’s Lena cluster. This system is designed to store and manage large volumes of data across multiple servers, providing a scalable and fault-tolerant storage solution for big data applications. By utilizing this system, the project is able to efficiently collect and store a vast amount of data from multiple sources, which will be used to train and validate the machine learning models used in the project. Additionally, the use of HDFS ensures the data is secure and easily accessible, enabling future research and analysis on the same dataset.\n",
    "\n",
    "\n",
    "Exploratory data analysis: The exploratory data analysis (EDA) for this project will be conducted using the Spark execution engine, which is an open-source distributed computing system designed for big data processing. This will enable efficient processing of the large volumes of data collected. The EDA will involve an initial assessment of the quality and completeness of the dataset, as well as the identification and treatment of any missing data, outliers or anomalies. The Spark engine will also be used to perform statistical analysis to answer important questions and gain insights into the underlying patterns and relationships in the data. This analysis will include descriptive statistics, correlation analysis, and predictive modeling using machine learning algorithms. The results of the EDA and statistical analysis will inform the development of the machine learning models, enabling the project to meet its objective of accurately predicting the operating conditions of water pumps across multiple waterpoints in Tanzania.\n",
    "\n",
    "\n",
    "Data preprocessing: Before feeding the data to the machine learning model, a series of transformations will be performed on the dataset using functions coded in PySpark. PySpark is a Python library for Spark that enables scalable data processing and ML workflows. The ETL functions will be designed to clean and transform the raw data into a format that is suitable for training the ML models. This will involve a range of data cleaning and preprocessing steps,  including handling missing values, encoding categorical variables, and scaling features. The specific transformation will be informed by the insights retrieved after conducting the EDA. Additionally, feature engineering techniques will be applied to derive new features from the raw data, which will be used to improve the predictive performance of the ML models. The resulting dataset will be split into training and test sets, with the former used to train the ML models and the latter used to evaluate their performance. The PySpark-based ETL pipeline will enable efficient and scalable data processing, allowing for the processing of large datasets in a distributed computing environment.\n",
    "\n",
    "\n",
    "Modeling and hyperparameter tuning: The modeling approach involves testing out different ensemble models and searching for the best hyperparameters for each model. Ensemble models are a collection of multiple machine learning algorithms that are combined to improve the accuracy and robustness of the predictions. This approach will enable us to leverage the strengths of multiple models and improve the predictive performance of the overall system. We will experiment with different ensemble models, including bagging and boosting, using a range of machine learning algorithms such as Random Forest, and Gradient Boosting Machines. To optimize the performance of these models, we will use hyperparameter tuning techniques such as grid search and randomized search. These methods will help us to systematically search for the best combination of hyperparameters for each model, allowing us to fine-tune the models and achieve the best possible predictive performance on this dataset. This portion of the project will focus on using Spark MLlib, which is a scalable machine learning library for Spark that provides a range of distributed machine learning algorithms and tools.\n",
    "\n",
    "\n",
    "Model evaluation metrics: To evaluate the performance of the models for classification, we will test several standard metrics including accuracy, precision, and recall. These metrics will enable us to quantify the predictive performance of the models and compare their effectiveness in detecting faulty water pumps. To ensure that the performance metrics are robust and reliable, we will use a rigorous approach to validate the model performance using K-fold cross-validation. This method involves splitting the data into K subsets and training the model on K-1 subsets while using the remaining subset for testing. This process is repeated K times, with each subset used for testing once. The results of each fold are averaged to provide an estimate of the model's performance. K-fold cross-validation will enable us to assess the generalizability of the models, providing a more reliable estimate of their performance on new, unseen data. This will help us to identify and address potential overfitting issues.\n",
    "\n",
    "##  4. Expected Outcomes\n",
    "\n",
    "By using a data-driven approach to understand and mitigate faulty infrastructure in water wells, we can improve access to safe water for millions of people in Tanzania. The development of this powerful ensemble model capable of predicting the operating conditions of water pumps across multiple water-points will introduce new capabilities to proactively address faults and maintenance needs before they become critical, reducing downtime and improving the reliability of the water supply. The expected outcome is that this project will significantly improve the standard of living for all Tanzanians, and address the climate change challenges that affect basic infrastructure in the country. \n",
    "\n"
   ]
  },
  {
   "cell_type": "markdown",
   "metadata": {},
   "source": [
    "##  5. Exploratory Data Analysis"
   ]
  },
  {
   "cell_type": "code",
   "execution_count": 99,
   "metadata": {},
   "outputs": [],
   "source": [
    "import os\n",
    "import numpy as np\n",
    "import matplotlib.pyplot as plt\n",
    "import seaborn as sns\n",
    "import pyspark\n",
    "from pyspark.sql import SparkSession\n",
    "import pyspark.sql.types as typ\n",
    "import pyspark.sql.functions as fn\n",
    "from pyspark.sql.window import Window\n",
    "from pyspark.sql.functions import year, month\n",
    "from pyspark.ml import Pipeline\n",
    "from pyspark.ml import PipelineModel\n",
    "from pyspark.ml.feature import StringIndexer, IndexToString, \\\n",
    "                               Bucketizer, MinMaxScaler, VectorAssembler, OneHotEncoder\n",
    "import pyspark.mllib.stat as st\n",
    "import pyspark.mllib.feature as ft\n",
    "import pyspark.mllib.evaluation as ev\n",
    "from pyspark.mllib.tree import RandomForest\n",
    "import pyspark.ml.tuning as tune\n",
    "import warnings\n",
    "from pyspark.ml.classification import RandomForestClassifier, GBTClassifier, MultilayerPerceptronClassifier\n",
    "from pyspark.ml.tuning import ParamGridBuilder, CrossValidator\n",
    "from pyspark.ml.evaluation import MulticlassClassificationEvaluator\n",
    "from pyspark.mllib.evaluation import MulticlassMetrics\n",
    "warnings.filterwarnings('ignore')"
   ]
  },
  {
   "cell_type": "markdown",
   "metadata": {},
   "source": [
    "**5.1 Create Spark session**"
   ]
  },
  {
   "cell_type": "code",
   "execution_count": 2,
   "metadata": {},
   "outputs": [],
   "source": [
    "spark = SparkSession \\\n",
    "    .builder \\\n",
    "    .appName(\"waternet\") \\\n",
    "    .getOrCreate()"
   ]
  },
  {
   "cell_type": "code",
   "execution_count": 3,
   "metadata": {},
   "outputs": [
    {
     "data": {
      "text/plain": [
       "'3.0.1'"
      ]
     },
     "execution_count": 3,
     "metadata": {},
     "output_type": "execute_result"
    }
   ],
   "source": [
    "spark.version"
   ]
  },
  {
   "cell_type": "markdown",
   "metadata": {},
   "source": [
    "**5.2 Import data**"
   ]
  },
  {
   "cell_type": "code",
   "execution_count": 4,
   "metadata": {},
   "outputs": [],
   "source": [
    "hdfs_filepath = \"hdfs_data/cw2/data\"\n",
    "X = spark.read.options(header=True).csv(f\"{hdfs_filepath}/training_values.csv\")\n",
    "y = spark.read.options(header=True).csv(f\"{hdfs_filepath}/training_labels.csv\")"
   ]
  },
  {
   "cell_type": "code",
   "execution_count": 5,
   "metadata": {},
   "outputs": [],
   "source": [
    "test = spark.read.options(header=True).csv(f\"{hdfs_filepath}/test_values.csv\")"
   ]
  },
  {
   "cell_type": "code",
   "execution_count": 6,
   "metadata": {
    "scrolled": true
   },
   "outputs": [
    {
     "name": "stdout",
     "output_type": "stream",
     "text": [
      "root\n",
      " |-- id: string (nullable = true)\n",
      " |-- amount_tsh: string (nullable = true)\n",
      " |-- date_recorded: string (nullable = true)\n",
      " |-- funder: string (nullable = true)\n",
      " |-- gps_height: string (nullable = true)\n",
      " |-- installer: string (nullable = true)\n",
      " |-- longitude: string (nullable = true)\n",
      " |-- latitude: string (nullable = true)\n",
      " |-- wpt_name: string (nullable = true)\n",
      " |-- num_private: string (nullable = true)\n",
      " |-- basin: string (nullable = true)\n",
      " |-- subvillage: string (nullable = true)\n",
      " |-- region: string (nullable = true)\n",
      " |-- region_code: string (nullable = true)\n",
      " |-- district_code: string (nullable = true)\n",
      " |-- lga: string (nullable = true)\n",
      " |-- ward: string (nullable = true)\n",
      " |-- population: string (nullable = true)\n",
      " |-- public_meeting: string (nullable = true)\n",
      " |-- recorded_by: string (nullable = true)\n",
      " |-- scheme_management: string (nullable = true)\n",
      " |-- scheme_name: string (nullable = true)\n",
      " |-- permit: string (nullable = true)\n",
      " |-- construction_year: string (nullable = true)\n",
      " |-- extraction_type: string (nullable = true)\n",
      " |-- extraction_type_group: string (nullable = true)\n",
      " |-- extraction_type_class: string (nullable = true)\n",
      " |-- management: string (nullable = true)\n",
      " |-- management_group: string (nullable = true)\n",
      " |-- payment: string (nullable = true)\n",
      " |-- payment_type: string (nullable = true)\n",
      " |-- water_quality: string (nullable = true)\n",
      " |-- quality_group: string (nullable = true)\n",
      " |-- quantity: string (nullable = true)\n",
      " |-- quantity_group: string (nullable = true)\n",
      " |-- source: string (nullable = true)\n",
      " |-- source_type: string (nullable = true)\n",
      " |-- source_class: string (nullable = true)\n",
      " |-- waterpoint_type: string (nullable = true)\n",
      " |-- waterpoint_type_group: string (nullable = true)\n",
      "\n",
      "root\n",
      " |-- id: string (nullable = true)\n",
      " |-- amount_tsh: string (nullable = true)\n",
      " |-- date_recorded: string (nullable = true)\n",
      " |-- funder: string (nullable = true)\n",
      " |-- gps_height: string (nullable = true)\n",
      " |-- installer: string (nullable = true)\n",
      " |-- longitude: string (nullable = true)\n",
      " |-- latitude: string (nullable = true)\n",
      " |-- wpt_name: string (nullable = true)\n",
      " |-- num_private: string (nullable = true)\n",
      " |-- basin: string (nullable = true)\n",
      " |-- subvillage: string (nullable = true)\n",
      " |-- region: string (nullable = true)\n",
      " |-- region_code: string (nullable = true)\n",
      " |-- district_code: string (nullable = true)\n",
      " |-- lga: string (nullable = true)\n",
      " |-- ward: string (nullable = true)\n",
      " |-- population: string (nullable = true)\n",
      " |-- public_meeting: string (nullable = true)\n",
      " |-- recorded_by: string (nullable = true)\n",
      " |-- scheme_management: string (nullable = true)\n",
      " |-- scheme_name: string (nullable = true)\n",
      " |-- permit: string (nullable = true)\n",
      " |-- construction_year: string (nullable = true)\n",
      " |-- extraction_type: string (nullable = true)\n",
      " |-- extraction_type_group: string (nullable = true)\n",
      " |-- extraction_type_class: string (nullable = true)\n",
      " |-- management: string (nullable = true)\n",
      " |-- management_group: string (nullable = true)\n",
      " |-- payment: string (nullable = true)\n",
      " |-- payment_type: string (nullable = true)\n",
      " |-- water_quality: string (nullable = true)\n",
      " |-- quality_group: string (nullable = true)\n",
      " |-- quantity: string (nullable = true)\n",
      " |-- quantity_group: string (nullable = true)\n",
      " |-- source: string (nullable = true)\n",
      " |-- source_type: string (nullable = true)\n",
      " |-- source_class: string (nullable = true)\n",
      " |-- waterpoint_type: string (nullable = true)\n",
      " |-- waterpoint_type_group: string (nullable = true)\n",
      "\n"
     ]
    },
    {
     "data": {
      "text/plain": [
       "True"
      ]
     },
     "execution_count": 6,
     "metadata": {},
     "output_type": "execute_result"
    }
   ],
   "source": [
    "test.printSchema() == X.printSchema()"
   ]
  },
  {
   "cell_type": "code",
   "execution_count": 7,
   "metadata": {
    "scrolled": true
   },
   "outputs": [
    {
     "name": "stdout",
     "output_type": "stream",
     "text": [
      "root\n",
      " |-- id: string (nullable = true)\n",
      " |-- amount_tsh: string (nullable = true)\n",
      " |-- date_recorded: string (nullable = true)\n",
      " |-- funder: string (nullable = true)\n",
      " |-- gps_height: string (nullable = true)\n",
      " |-- installer: string (nullable = true)\n",
      " |-- longitude: string (nullable = true)\n",
      " |-- latitude: string (nullable = true)\n",
      " |-- wpt_name: string (nullable = true)\n",
      " |-- num_private: string (nullable = true)\n",
      " |-- basin: string (nullable = true)\n",
      " |-- subvillage: string (nullable = true)\n",
      " |-- region: string (nullable = true)\n",
      " |-- region_code: string (nullable = true)\n",
      " |-- district_code: string (nullable = true)\n",
      " |-- lga: string (nullable = true)\n",
      " |-- ward: string (nullable = true)\n",
      " |-- population: string (nullable = true)\n",
      " |-- public_meeting: string (nullable = true)\n",
      " |-- recorded_by: string (nullable = true)\n",
      " |-- scheme_management: string (nullable = true)\n",
      " |-- scheme_name: string (nullable = true)\n",
      " |-- permit: string (nullable = true)\n",
      " |-- construction_year: string (nullable = true)\n",
      " |-- extraction_type: string (nullable = true)\n",
      " |-- extraction_type_group: string (nullable = true)\n",
      " |-- extraction_type_class: string (nullable = true)\n",
      " |-- management: string (nullable = true)\n",
      " |-- management_group: string (nullable = true)\n",
      " |-- payment: string (nullable = true)\n",
      " |-- payment_type: string (nullable = true)\n",
      " |-- water_quality: string (nullable = true)\n",
      " |-- quality_group: string (nullable = true)\n",
      " |-- quantity: string (nullable = true)\n",
      " |-- quantity_group: string (nullable = true)\n",
      " |-- source: string (nullable = true)\n",
      " |-- source_type: string (nullable = true)\n",
      " |-- source_class: string (nullable = true)\n",
      " |-- waterpoint_type: string (nullable = true)\n",
      " |-- waterpoint_type_group: string (nullable = true)\n",
      " |-- status_group: string (nullable = true)\n",
      "\n"
     ]
    }
   ],
   "source": [
    "# Concatenate X and y to create a single Pyspark dataframe\n",
    "train = X.join(y, on=[\"id\"])\n",
    "train.printSchema()"
   ]
  },
  {
   "cell_type": "markdown",
   "metadata": {},
   "source": [
    "**5.3 Analyze and visualize class distribution**"
   ]
  },
  {
   "cell_type": "code",
   "execution_count": 8,
   "metadata": {
    "scrolled": false
   },
   "outputs": [
    {
     "name": "stdout",
     "output_type": "stream",
     "text": [
      "+--------------------+-----+\n",
      "|        status_group|count|\n",
      "+--------------------+-----+\n",
      "|functional needs ...| 4317|\n",
      "|      non functional|22824|\n",
      "|          functional|32259|\n",
      "+--------------------+-----+\n",
      "\n"
     ]
    }
   ],
   "source": [
    "# Analyze value counts of the label\n",
    "class_distribution = train.groupBy('status_group').count().orderBy('count')\n",
    "class_distribution.show()"
   ]
  },
  {
   "cell_type": "code",
   "execution_count": 9,
   "metadata": {},
   "outputs": [
    {
     "data": {
      "image/png": "[encoded data removed]",
      "text/plain": [
       "<Figure size 432x288 with 1 Axes>"
      ]
     },
     "metadata": {
      "needs_background": "light"
     },
     "output_type": "display_data"
    }
   ],
   "source": [
    "# These frequency counts are not big data, we can convert to numpy array for plotting with matplotlib\n",
    "import matplotlib.pyplot as plt\n",
    "fig, ax = plt.subplots()\n",
    "\n",
    "counts = class_distribution.select('count').collect()\n",
    "labels = class_distribution.select('status_group').collect()\n",
    "bar_colors = ['tab:red', 'tab:green', 'tab:orange']\n",
    "\n",
    "ax.bar(np.array(labels).flatten(), np.array(counts).flatten(), color=bar_colors)\n",
    "ax.set_ylabel('Class frequency')\n",
    "ax.set_title('Class distribution on training set')\n",
    "plt.show()"
   ]
  },
  {
   "cell_type": "markdown",
   "metadata": {},
   "source": [
    "We observe a class imbalance in the data distribution. This needs to be addressed during modelling. "
   ]
  },
  {
   "cell_type": "code",
   "execution_count": 10,
   "metadata": {
    "scrolled": false
   },
   "outputs": [
    {
     "name": "stdout",
     "output_type": "stream",
     "text": [
      "+-------+------------------+-----------------+------------------+------------------+\n",
      "|summary|        amount_tsh|        longitude|        population| construction_year|\n",
      "+-------+------------------+-----------------+------------------+------------------+\n",
      "|  count|             59400|            59400|             59400|             59400|\n",
      "|   mean| 317.6503846801347|34.07742669202857|179.90998316498317|1300.6524747474748|\n",
      "| stddev|2997.5745581421693|6.567431845646534| 471.4821757384808| 951.6205473151731|\n",
      "|    min|               0.0|              0.0|                 0|                 0|\n",
      "|    max|            9000.0|      40.34519307|               990|              2013|\n",
      "+-------+------------------+-----------------+------------------+------------------+\n",
      "\n"
     ]
    }
   ],
   "source": [
    "train.describe('amount_tsh', 'longitude', 'population', 'construction_year').show()"
   ]
  },
  {
   "cell_type": "code",
   "execution_count": 11,
   "metadata": {},
   "outputs": [],
   "source": [
    "def plot_distribution(col, name):\n",
    "    \"\"\"Plots distribution by calling the collect() action and flattens \n",
    "       the array\n",
    "    \"\"\"\n",
    "    col = np.array(train.select(name).collect()).flatten()\n",
    "    sns.set_context(\"paper\")\n",
    "    plt.figure(figsize=(7,4))\n",
    "    sns.distplot(col)\n",
    "    plt.savefig(f'{name}.png', dpi=300, bbox_inches='tight')\n",
    "    fig.show()\n",
    "    "
   ]
  },
  {
   "cell_type": "markdown",
   "metadata": {},
   "source": [
    "**5.4 Exploring univariate distributions**"
   ]
  },
  {
   "cell_type": "markdown",
   "metadata": {},
   "source": [
    "## ```longitude```\n",
    "\n",
    "The minimum longitude in this dataset is 0. However longitudes in Tanzania should be in the 29-40 range. This requires handling of 0 values to be treated as missing values."
   ]
  },
  {
   "cell_type": "code",
   "execution_count": 12,
   "metadata": {},
   "outputs": [
    {
     "data": {
      "image/png": "[encoded data removed]",
      "text/plain": [
       "<Figure size 504x288 with 1 Axes>"
      ]
     },
     "metadata": {
      "needs_background": "light"
     },
     "output_type": "display_data"
    }
   ],
   "source": [
    "longitudes = np.array(train.select('longitude').collect()).flatten()\n",
    "plot_distribution(longitudes, 'longitude')"
   ]
  },
  {
   "cell_type": "markdown",
   "metadata": {},
   "source": [
    "## ```amount_tsh```\n",
    "amount_tsh is the total static head. This is the amount of water available to a waterpoint"
   ]
  },
  {
   "cell_type": "code",
   "execution_count": 13,
   "metadata": {
    "scrolled": true
   },
   "outputs": [
    {
     "data": {
      "image/png": "[encoded data removed]",
      "text/plain": [
       "<Figure size 504x288 with 1 Axes>"
      ]
     },
     "metadata": {
      "needs_background": "light"
     },
     "output_type": "display_data"
    }
   ],
   "source": [
    "amounts = np.array(train.select('amount_tsh').collect()).flatten()\n",
    "plot_distribution(amounts, 'amount_tsh')"
   ]
  },
  {
   "cell_type": "code",
   "execution_count": 14,
   "metadata": {},
   "outputs": [
    {
     "data": {
      "text/plain": [
       "0.701060606060606"
      ]
     },
     "execution_count": 14,
     "metadata": {},
     "output_type": "execute_result"
    }
   ],
   "source": [
    "count_of_zero_tsh = len(train.filter('amount_tsh = 0').collect())\n",
    "count_of_all_waterpoints = len(train.select('amount_tsh').collect())\n",
    "count_of_zero_tsh / count_of_all_waterpoints"
   ]
  },
  {
   "cell_type": "markdown",
   "metadata": {},
   "source": [
    "About 70% of all waterpoints in the country have no water available. That is, their total static head is 0"
   ]
  },
  {
   "cell_type": "code",
   "execution_count": 15,
   "metadata": {},
   "outputs": [
    {
     "data": {
      "text/plain": [
       "0.6108992839207663"
      ]
     },
     "execution_count": 15,
     "metadata": {},
     "output_type": "execute_result"
    }
   ],
   "source": [
    "count_of_funtional_waterpoints = len(train.filter(train.status_group == \"functional\").collect())\n",
    "count_of_functional_and_zero_tsh = len(train.filter((train.amount_tsh == 0) & (train.status_group == \"functional\")).collect())\n",
    "count_of_functional_and_zero_tsh/count_of_funtional_waterpoints\n"
   ]
  },
  {
   "cell_type": "markdown",
   "metadata": {},
   "source": [
    "Additionally, we observe that out of all the waterpoints classified as \"functional\", over 60% actually have no water available. "
   ]
  },
  {
   "cell_type": "code",
   "execution_count": 16,
   "metadata": {
    "scrolled": true
   },
   "outputs": [
    {
     "name": "stdout",
     "output_type": "stream",
     "text": [
      "+--------------------+-----+\n",
      "|        status_group|count|\n",
      "+--------------------+-----+\n",
      "|functional needs ...| 3048|\n",
      "|      non functional|18888|\n",
      "|          functional|19707|\n",
      "+--------------------+-----+\n",
      "\n"
     ]
    }
   ],
   "source": [
    "train.filter((train.amount_tsh == 0)).groupBy('status_group').count().orderBy('count').show()"
   ]
  },
  {
   "cell_type": "code",
   "execution_count": 17,
   "metadata": {},
   "outputs": [
    {
     "data": {
      "text/plain": [
       "0.47323679850154887"
      ]
     },
     "execution_count": 17,
     "metadata": {},
     "output_type": "execute_result"
    }
   ],
   "source": [
    "count_of_functional_and_zero_tsh/count_of_zero_tsh"
   ]
  },
  {
   "cell_type": "markdown",
   "metadata": {},
   "source": [
    "And close to 50% of all waterpoints with zero totals static head are categorized as functional.\n",
    "\n",
    "This raises some questions regarding the data and utility of this feature"
   ]
  },
  {
   "cell_type": "markdown",
   "metadata": {},
   "source": [
    "## ```gps_height```\n",
    "\n",
    "This feature represents the altitude of the well"
   ]
  },
  {
   "cell_type": "code",
   "execution_count": 18,
   "metadata": {
    "scrolled": true
   },
   "outputs": [
    {
     "data": {
      "image/png": "[encoded data removed]",
      "text/plain": [
       "<Figure size 504x288 with 1 Axes>"
      ]
     },
     "metadata": {
      "needs_background": "light"
     },
     "output_type": "display_data"
    }
   ],
   "source": [
    "gps_height = np.array(train.select('gps_height').collect()).flatten()\n",
    "plot_distribution(gps_height, 'gps_height')"
   ]
  },
  {
   "cell_type": "code",
   "execution_count": 19,
   "metadata": {},
   "outputs": [
    {
     "data": {
      "text/plain": [
       "0.3440740740740741"
      ]
     },
     "execution_count": 19,
     "metadata": {},
     "output_type": "execute_result"
    }
   ],
   "source": [
    "count_of_negative_altitude = len(train.filter(train.gps_height == 0).collect())\n",
    "count_of_negative_altitude/count_of_all_waterpoints"
   ]
  },
  {
   "cell_type": "markdown",
   "metadata": {},
   "source": [
    "At first glance, it was concerning that 34.4% of the waterpoints contain negative gps_height values. However elevations can also be represented by negative numbers. The elevation at sea level is 0. Elevations above sea level are positive and elevations below sea level are negative. [2: https://math.libretexts.org/Bookshelves/PreAlgebra/Book%3A_Prealgebra_(OpenStax)/03%3A_Integers/3.01%3A_Introduction_to_Integers_(Part_1)#:~:text=Elevations%20can%20also%20be%20represented,below%20sea%20level%20are%20negative.]"
   ]
  },
  {
   "cell_type": "markdown",
   "metadata": {},
   "source": [
    "## ```num_private```"
   ]
  },
  {
   "cell_type": "code",
   "execution_count": 20,
   "metadata": {},
   "outputs": [
    {
     "data": {
      "image/png": "[encoded data removed]",
      "text/plain": [
       "<Figure size 504x288 with 1 Axes>"
      ]
     },
     "metadata": {
      "needs_background": "light"
     },
     "output_type": "display_data"
    }
   ],
   "source": [
    "num_private = np.array(train.select('num_private').collect()).flatten()\n",
    "plot_distribution(num_private, 'num_private')"
   ]
  },
  {
   "cell_type": "code",
   "execution_count": 21,
   "metadata": {
    "scrolled": true
   },
   "outputs": [
    {
     "data": {
      "text/plain": [
       "0.9872558922558923"
      ]
     },
     "execution_count": 21,
     "metadata": {},
     "output_type": "execute_result"
    }
   ],
   "source": [
    "count_of_zero_num_private = len(train.filter(train.num_private == 0).collect())\n",
    "count_of_zero_num_private/count_of_all_waterpoints"
   ]
  },
  {
   "cell_type": "markdown",
   "metadata": {},
   "source": [
    "This feature does not have much variability to it. 98% of it's value are 0, therefore it lacks distinguishing power and may not be very useful for the classifier."
   ]
  },
  {
   "cell_type": "markdown",
   "metadata": {},
   "source": [
    "## ```construction_year```"
   ]
  },
  {
   "cell_type": "code",
   "execution_count": 22,
   "metadata": {},
   "outputs": [
    {
     "data": {
      "image/png": "[encoded data removed]",
      "text/plain": [
       "<Figure size 504x288 with 1 Axes>"
      ]
     },
     "metadata": {
      "needs_background": "light"
     },
     "output_type": "display_data"
    }
   ],
   "source": [
    "construction_year = np.array(train.select('construction_year').collect()).flatten()\n",
    "plot_distribution(construction_year, 'construction_year')"
   ]
  },
  {
   "cell_type": "code",
   "execution_count": 23,
   "metadata": {},
   "outputs": [
    {
     "data": {
      "text/plain": [
       "0.34863636363636363"
      ]
     },
     "execution_count": 23,
     "metadata": {},
     "output_type": "execute_result"
    }
   ],
   "source": [
    "count_of_zero_construction_yr = len(train.filter(train.construction_year == 0).collect())\n",
    "count_of_zero_construction_yr / count_of_all_waterpoints"
   ]
  },
  {
   "cell_type": "code",
   "execution_count": 24,
   "metadata": {
    "scrolled": true
   },
   "outputs": [
    {
     "name": "stdout",
     "output_type": "stream",
     "text": [
      "+-------+------------------+\n",
      "|summary| construction_year|\n",
      "+-------+------------------+\n",
      "|  count|             38691|\n",
      "|   mean|1996.8146855857951|\n",
      "| stddev|12.472045035085559|\n",
      "|    min|              1960|\n",
      "|    25%|            1987.0|\n",
      "|    50%|            2000.0|\n",
      "|    75%|            2008.0|\n",
      "|    max|              2013|\n",
      "+-------+------------------+\n",
      "\n"
     ]
    }
   ],
   "source": [
    "train.select('construction_year').filter(train.construction_year != 0).summary().show()"
   ]
  },
  {
   "cell_type": "code",
   "execution_count": 25,
   "metadata": {},
   "outputs": [
    {
     "data": {
      "image/png": "[encoded data removed]",
      "text/plain": [
       "<Figure size 504x288 with 1 Axes>"
      ]
     },
     "metadata": {
      "needs_background": "light"
     },
     "output_type": "display_data"
    }
   ],
   "source": [
    "non_zero_construction_year = np.array(train.select('construction_year').filter(train.construction_year != 0).collect()).flatten()\n",
    "sns.set_context(\"paper\")\n",
    "plt.figure(figsize=(7,4))\n",
    "sns.distplot(non_zero_construction_year)\n",
    "plt.savefig('nonzero_construction_year.png', dpi=300, bbox_inches='tight')\n",
    "fig.show()\n",
    "    "
   ]
  },
  {
   "cell_type": "markdown",
   "metadata": {},
   "source": [
    "- 34.8% of all waterpoints do no have a valid year. These are considered missing values: \n",
    "\n",
    "- The oldest waterpoint well was constructed in 1960 and 2013 is the newest.\n",
    "\n",
    "- ~ 2010 is the year that saw the highest number of constructions.\n",
    "\n"
   ]
  },
  {
   "cell_type": "markdown",
   "metadata": {},
   "source": [
    "## ```population```\n",
    "Represents the population around the well"
   ]
  },
  {
   "cell_type": "code",
   "execution_count": 26,
   "metadata": {},
   "outputs": [
    {
     "data": {
      "image/png": "[encoded data removed]",
      "text/plain": [
       "<Figure size 504x288 with 1 Axes>"
      ]
     },
     "metadata": {
      "needs_background": "light"
     },
     "output_type": "display_data"
    }
   ],
   "source": [
    "population = np.array(train.select('population').collect()).flatten()\n",
    "plot_distribution(population, 'population')"
   ]
  },
  {
   "cell_type": "code",
   "execution_count": 27,
   "metadata": {},
   "outputs": [
    {
     "data": {
      "text/plain": [
       "0.35994949494949496"
      ]
     },
     "execution_count": 27,
     "metadata": {},
     "output_type": "execute_result"
    }
   ],
   "source": [
    "count_of_zero_population = len(train.filter(train.population == 0).collect())\n",
    "count_of_zero_population / count_of_all_waterpoints"
   ]
  },
  {
   "cell_type": "code",
   "execution_count": 28,
   "metadata": {
    "scrolled": true
   },
   "outputs": [
    {
     "data": {
      "text/plain": [
       "<AxesSubplot:ylabel='Density'>"
      ]
     },
     "execution_count": 28,
     "metadata": {},
     "output_type": "execute_result"
    },
    {
     "data": {
      "image/png": "[encoded data removed]",
      "text/plain": [
       "<Figure size 504x288 with 1 Axes>"
      ]
     },
     "metadata": {
      "needs_background": "light"
     },
     "output_type": "display_data"
    }
   ],
   "source": [
    "plt.figure(figsize=(7,4))\n",
    "zoom_in_population = train.filter(train.population <= 1000).select('population').collect()\n",
    "sns.distplot(zoom_in_population)"
   ]
  },
  {
   "cell_type": "code",
   "execution_count": 29,
   "metadata": {},
   "outputs": [
    {
     "data": {
      "text/plain": [
       "<AxesSubplot:ylabel='Density'>"
      ]
     },
     "execution_count": 29,
     "metadata": {},
     "output_type": "execute_result"
    },
    {
     "data": {
      "image/png": "[encoded data removed]",
      "text/plain": [
       "<Figure size 504x288 with 1 Axes>"
      ]
     },
     "metadata": {
      "needs_background": "light"
     },
     "output_type": "display_data"
    }
   ],
   "source": [
    "plt.figure(figsize=(7,4))\n",
    "zoom_in_population = train.filter((train.population <= 1000) & (train.population > 10)).select('population').collect()\n",
    "sns.distplot(zoom_in_population)"
   ]
  },
  {
   "cell_type": "markdown",
   "metadata": {},
   "source": [
    "35.9% of all data points contain missing values (population = 0).\n",
    "The populations of people living around the waterpoints are also relatively small with most points having under 1000 people."
   ]
  },
  {
   "cell_type": "markdown",
   "metadata": {},
   "source": [
    "Evidently the most important parts of data preprocessing will be to deal with missing values, represented as 0s in numerical features. These 0 values take up a significant portion of the features."
   ]
  },
  {
   "cell_type": "code",
   "execution_count": 30,
   "metadata": {},
   "outputs": [],
   "source": [
    "def plot_geospatial_data(geodata):\n",
    "    \"\"\" Plots a scatter plot that encodes altitude\n",
    "        to visualize waterpoint location and functionality status\n",
    "    \"\"\"\n",
    "    fig, ax = plt.subplots(figsize=(12,12))\n",
    "    ax = sns.scatterplot(data=np.array(geodata), \n",
    "#                          x= \n",
    "#                          y=\n",
    "#                          size=\n",
    "#                          hue=\n",
    "                         ax=ax)\n",
    "    # Title\n",
    "    ax.set_title('Waterpoint Location and Functionality Status in Tanzania')\n",
    "\n",
    "    # Add legend out main figure\n",
    "    plt.legend(bbox_to_anchor=(1.02, 1), loc=2, borderaxespad=0.)\n",
    "    plt.savefig('geospatial_scatter.jpg', bbox_inches='tight');"
   ]
  },
  {
   "cell_type": "code",
   "execution_count": 31,
   "metadata": {},
   "outputs": [],
   "source": [
    "geodata = train.select('latitude', 'longitude', 'gps_height', 'status_group').filter(train.longitude >= 25).collect()\n",
    "# plot_geospatial_data(geodata)"
   ]
  },
  {
   "cell_type": "markdown",
   "metadata": {},
   "source": [
    "**5.5 Exploring two or more variables**\n",
    "\n",
    "Next we will explore estimates and plots for bivariate analysis."
   ]
  },
  {
   "cell_type": "code",
   "execution_count": 32,
   "metadata": {},
   "outputs": [],
   "source": [
    "def plot_stackedbar(df, title, figsize):\n",
    "    df = df.toPandas()\n",
    "    colors = ['#5886a5', '#FAC748', '#ff6361']\n",
    "#     labels = df.columns\n",
    "    labels = list(df.columns)\n",
    "\n",
    "    fig, ax = plt.subplots(1, figsize=figsize)\n",
    "#     left = df.count() * [0]\n",
    "    left = len(df) * [0]\n",
    "    \n",
    "    for idx, name in enumerate(labels):\n",
    "        \n",
    "#         plt.barh(list(range(0, train.count())), \n",
    "#                  df[name], \n",
    "#                  left=left, \n",
    "#                  color=colors[idx], \n",
    "#                  height=0.3)\n",
    "        plt.barh(df.index, \n",
    "                 df[name], \n",
    "                 left=left, \n",
    "                 color=colors[idx], \n",
    "                 height=0.3)\n",
    "        left = left + df[name]\n",
    "        \n",
    "    # title and subtitle\n",
    "    plt.title(title, loc='left', fontsize=20, pad=40)\n",
    "    \n",
    "    # legend\n",
    "    plt.legend(labels, \n",
    "               bbox_to_anchor=([0.38, 1.1, 0.58, 0]), \n",
    "               ncol=3, \n",
    "               frameon=True, \n",
    "               fontsize=14)\n",
    "    \n",
    "    # remove spines\n",
    "    ax.spines['right'].set_visible(False)\n",
    "    ax.spines['left'].set_visible(False)\n",
    "    ax.spines['top'].set_visible(False)\n",
    "    ax.spines['bottom'].set_visible(False)\n",
    "\n",
    "    # adjust limits and draw grid lines\n",
    "    plt.ylim(-0.5, ax.get_yticks()[-1] + 0.5)\n",
    "    ax.xaxis.grid(color='gray', linestyle='dashed')\n",
    "    \n",
    "    # reset font size for yticks\n",
    "    ax.tick_params(axis='both', which='major', labelsize=15)\n",
    "    \n",
    "    plt.show()"
   ]
  },
  {
   "cell_type": "code",
   "execution_count": 33,
   "metadata": {},
   "outputs": [],
   "source": [
    "# table = train.crosstab('region', 'status_group').orderBy('functional', ascending=False)\n",
    "# title = 'Well Functionality Status Grouped by Region\\n'\n",
    "\n",
    "# plot_stackedbar(table, title, (20,15))\n",
    "# plt.savefig('stacked_region.jpg', dpi=300, bbox_inches='tight');"
   ]
  },
  {
   "cell_type": "markdown",
   "metadata": {},
   "source": [
    "Beginning with contingency tables, we will explore the tally counts between independent and dependent variable in our dataset"
   ]
  },
  {
   "cell_type": "markdown",
   "metadata": {},
   "source": [
    "## ```region``` and ```status_group```"
   ]
  },
  {
   "cell_type": "code",
   "execution_count": 34,
   "metadata": {
    "scrolled": true
   },
   "outputs": [
    {
     "name": "stdout",
     "output_type": "stream",
     "text": [
      "21\n",
      "+-------------------+----------+-----------------------+--------------+\n",
      "|region_status_group|functional|functional needs repair|non functional|\n",
      "+-------------------+----------+-----------------------+--------------+\n",
      "|      Dar es Salaam|       461|                      3|           341|\n",
      "|            Manyara|       987|                     96|           500|\n",
      "|             Kigoma|      1363|                    603|           850|\n",
      "|             Arusha|      2294|                    175|           881|\n",
      "|            Singida|      1011|                    128|           954|\n",
      "|              Rukwa|       707|                    135|           966|\n",
      "|             Dodoma|      1009|                    209|           983|\n",
      "|              Lindi|       460|                     93|           993|\n",
      "|             Ruvuma|      1480|                    164|           996|\n",
      "|               Mara|       886|                     60|          1023|\n",
      "|             Iringa|      4141|                    123|          1030|\n",
      "|              Tanga|      1436|                     73|          1038|\n",
      "|              Pwani|      1556|                     36|          1043|\n",
      "|             Tabora|       848|                     45|          1066|\n",
      "|             Mtwara|       524|                    126|          1080|\n",
      "|             Kagera|      1727|                    304|          1285|\n",
      "|        Kilimanjaro|      2640|                    322|          1417|\n",
      "|             Mwanza|      1502|                    183|          1417|\n",
      "|          Shinyanga|      2789|                    635|          1558|\n",
      "|           Morogoro|      2119|                    300|          1587|\n",
      "|              Mbeya|      2319|                    504|          1816|\n",
      "+-------------------+----------+-----------------------+--------------+\n",
      "\n"
     ]
    }
   ],
   "source": [
    "# https://spark.apache.org/docs/3.1.3/api/python/reference/api/pyspark.sql.DataFrame.crosstab.html#pyspark.sql.DataFrame.crosstab\n",
    "# Computes a pair-wise frequency table of the given columns\n",
    "print(train.crosstab('region', 'status_group').orderBy('non functional').count())\n",
    "train.crosstab('region', 'status_group').orderBy('non functional').show(21)"
   ]
  },
  {
   "cell_type": "markdown",
   "metadata": {},
   "source": [
    "Mbeya region seems to have the most absolute non-functional waterpoints compared to all other regions. Tabora is the largest region by area (76,151sq. km) in the central-western part of the country and it also has relatively less issues with its waterpoints compared to Mbeya, half the surface area of Tabora (35,954sq. km)\n",
    "\n",
    "Iringa has the most number of functional wells.\n",
    "\n",
    "Dar es Salaam is the former capital and continues to be the major commercial city in Tanzania. It has the least amount of non-functional waterpoints and also a very small fraction of them require reparations.\n",
    "\n",
    "Some patterns begin to emerge here, waterpoints in certain locations are potentially receiving better maintenance from local management, or constructed more robustly by installers than others."
   ]
  },
  {
   "cell_type": "code",
   "execution_count": 35,
   "metadata": {},
   "outputs": [
    {
     "data": {
      "image/png": "[encoded data removed]",
      "text/plain": [
       "<Figure size 1080x360 with 1 Axes>"
      ]
     },
     "metadata": {
      "needs_background": "light"
     },
     "output_type": "display_data"
    }
   ],
   "source": [
    "regions = [row.region for row in train.select('region').distinct().collect()] # Unique regions\n",
    "fig, ax = plt.subplots(figsize=(15,5))\n",
    "ax = sns.countplot(x=train.select('region').toPandas().region)\n",
    "ax.set_xticklabels(labels=regions, rotation=30);"
   ]
  },
  {
   "cell_type": "markdown",
   "metadata": {},
   "source": [
    "Tanzania has 31 regions. In this dataset we observe only 21 unique regions. One possible explanation is that it was recorded before 2012, because Njombe, Katavi, Simiyu and Geita were introduced as new regions formed by dividing up larger regions after this year. This dataset also seems to only consider Tanzania mainland regions and excludes the 4 regions in Unguja and 2 regions in Pemba islands."
   ]
  },
  {
   "cell_type": "markdown",
   "metadata": {},
   "source": [
    "## ```construction year``` and ```status_group```"
   ]
  },
  {
   "cell_type": "code",
   "execution_count": 36,
   "metadata": {},
   "outputs": [
    {
     "name": "stdout",
     "output_type": "stream",
     "text": [
      "+------------------------------+----------+-----------------------+--------------+\n",
      "|construction_year_status_group|functional|functional needs repair|non functional|\n",
      "+------------------------------+----------+-----------------------+--------------+\n",
      "|                          2013|       102|                      1|            73|\n",
      "|                          2012|       726|                     51|           307|\n",
      "|                          2011|       943|                     78|           235|\n",
      "|                          2010|      2023|                     90|           532|\n",
      "|                          2009|      1774|                    138|           621|\n",
      "|                          2008|      1839|                    127|           647|\n",
      "|                          2007|      1081|                    116|           390|\n",
      "|                          2006|       883|                    135|           453|\n",
      "|                          2005|       578|                     89|           344|\n",
      "|                          2004|       704|                     70|           349|\n",
      "|                          2003|       828|                     71|           387|\n",
      "|                          2002|       692|                     58|           325|\n",
      "|                          2001|       331|                     37|           172|\n",
      "|                          2000|      1279|                    136|           676|\n",
      "|                          1999|       694|                     47|           238|\n",
      "|                          1998|       542|                     87|           337|\n",
      "|                          1997|       291|                     67|           286|\n",
      "|                          1996|       386|                     48|           377|\n",
      "|                          1995|       593|                     75|           346|\n",
      "|                          1994|       380|                     43|           315|\n",
      "|                          1993|       285|                     34|           289|\n",
      "|                          1992|       361|                     41|           238|\n",
      "|                          1991|       141|                     17|           166|\n",
      "|                          1990|       466|                     59|           429|\n",
      "|                          1989|       165|                     14|           137|\n",
      "|                          1988|       245|                     42|           234|\n",
      "|                          1987|       143|                     37|           122|\n",
      "|                          1986|       212|                     34|           188|\n",
      "|                          1985|       324|                     84|           537|\n",
      "|                          1984|       365|                     66|           348|\n",
      "|                          1983|       187|                     21|           280|\n",
      "|                          1982|       236|                     54|           454|\n",
      "|                          1981|        85|                     11|           142|\n",
      "|                          1980|       258|                     60|           493|\n",
      "|                          1979|        41|                     12|           139|\n",
      "|                          1978|       426|                     97|           514|\n",
      "|                          1977|        62|                     10|           130|\n",
      "|                          1976|        85|                     52|           277|\n",
      "|                          1975|       144|                     41|           252|\n",
      "|                          1974|       234|                     39|           403|\n",
      "|                          1973|        55|                      8|           121|\n",
      "|                          1972|       178|                     68|           462|\n",
      "|                          1971|        82|                      6|            57|\n",
      "|                          1970|        99|                     15|           297|\n",
      "|                          1969|        15|                      3|            41|\n",
      "|                          1968|        22|                      4|            51|\n",
      "|                          1967|        31|                     17|            40|\n",
      "|                          1966|         6|                      0|            11|\n",
      "|                          1965|        11|                      1|             7|\n",
      "|                          1964|         7|                      1|            32|\n",
      "|                          1963|        31|                      6|            48|\n",
      "|                          1962|         7|                      1|            22|\n",
      "|                          1961|         2|                      3|            16|\n",
      "|                          1960|        24|                      6|            72|\n",
      "|                             0|     10555|                   1789|          8365|\n",
      "+------------------------------+----------+-----------------------+--------------+\n",
      "\n"
     ]
    }
   ],
   "source": [
    "# https://spark.apache.org/docs/3.1.3/api/python/reference/api/pyspark.sql.DataFrame.crosstab.html#pyspark.sql.DataFrame.crosstab\n",
    "# Computes a pair-wise frequency table of the given columns\n",
    "train.crosstab('construction_year', 'status_group').orderBy('construction_year_status_group', ascending=False).show(55)"
   ]
  },
  {
   "cell_type": "markdown",
   "metadata": {},
   "source": [
    "The functionality of well pumps tends to decline as they age, which is logical. However, based on our data, a significant number of wells built in 2010 still appear to be operational compared to those built in previous years. This observation is not entirely surprising since the latest records were only added in 2013, which is three years after 2010.\n",
    "\n",
    "Latest year recorded is 2013"
   ]
  },
  {
   "cell_type": "code",
   "execution_count": 37,
   "metadata": {
    "scrolled": true
   },
   "outputs": [
    {
     "name": "stdout",
     "output_type": "stream",
     "text": [
      "+-------------+-----------------+--------------+\n",
      "|date_recorded|construction_year|  status_group|\n",
      "+-------------+-----------------+--------------+\n",
      "|   2004-05-01|             2008|non functional|\n",
      "|   2004-12-01|             2006|non functional|\n",
      "|   2004-06-01|             2011|    functional|\n",
      "|   2004-03-01|             2009|    functional|\n",
      "|   2004-01-07|             2009|    functional|\n",
      "|   2004-03-01|             2005|non functional|\n",
      "|   2004-03-01|             2007|non functional|\n",
      "|   2004-03-06|             2009|non functional|\n",
      "|   2004-12-01|             2008|    functional|\n",
      "+-------------+-----------------+--------------+\n",
      "\n"
     ]
    }
   ],
   "source": [
    "train.filter(train.date_recorded < train.construction_year).select('date_recorded', 'construction_year', 'status_group').show()"
   ]
  },
  {
   "cell_type": "markdown",
   "metadata": {},
   "source": [
    "## ```Waterpoint quantity``` and ```status_group```"
   ]
  },
  {
   "cell_type": "code",
   "execution_count": 38,
   "metadata": {
    "scrolled": true
   },
   "outputs": [
    {
     "name": "stdout",
     "output_type": "stream",
     "text": [
      "+---------------------+----------+-----------------------+--------------+\n",
      "|quantity_status_group|functional|functional needs repair|non functional|\n",
      "+---------------------+----------+-----------------------+--------------+\n",
      "|               enough|     21648|                   2400|          9138|\n",
      "|         insufficient|      7916|                   1450|          5763|\n",
      "|             seasonal|      2325|                    416|          1309|\n",
      "|              unknown|       213|                     14|           562|\n",
      "|                  dry|       157|                     37|          6052|\n",
      "+---------------------+----------+-----------------------+--------------+\n",
      "\n"
     ]
    }
   ],
   "source": [
    "# https://spark.apache.org/docs/3.1.3/api/python/reference/api/pyspark.sql.DataFrame.crosstab.html#pyspark.sql.DataFrame.crosstab\n",
    "# Computes a pair-wise frequency table of the given columns\n",
    "train.crosstab('quantity', 'status_group').orderBy('functional', ascending=False).show()"
   ]
  },
  {
   "cell_type": "markdown",
   "metadata": {},
   "source": [
    "Here the observation is that dry waterpoints are frequently non functional, whereas waterpoints with enough quantities are frequently functional.\n",
    "\n",
    "The waterpoints with unknown quantities are frequently non functional. One possible reason could be that properly maintained waterpoints are also regularly monitored and documented. Therefore the lack of information about water quantities might indicate a lack in proper maintenance, thus a higher proportion of non functional waterpoints."
   ]
  },
  {
   "cell_type": "markdown",
   "metadata": {},
   "source": [
    "## ```Waterpoint quality``` and ```status_group```"
   ]
  },
  {
   "cell_type": "code",
   "execution_count": 39,
   "metadata": {},
   "outputs": [
    {
     "name": "stdout",
     "output_type": "stream",
     "text": [
      "+--------------------------+----------+-----------------------+--------------+\n",
      "|water_quality_status_group|functional|functional needs repair|non functional|\n",
      "+--------------------------+----------+-----------------------+--------------+\n",
      "|                      soft|     28760|                   3904|         18154|\n",
      "|                     salty|      2220|                    225|          2411|\n",
      "|                     milky|       438|                     14|           352|\n",
      "|                   unknown|       264|                     35|          1577|\n",
      "|                  coloured|       246|                     54|           190|\n",
      "|           salty abandoned|       174|                     72|            93|\n",
      "|                  fluoride|       151|                     13|            36|\n",
      "|        fluoride abandoned|         6|                      0|            11|\n",
      "+--------------------------+----------+-----------------------+--------------+\n",
      "\n"
     ]
    }
   ],
   "source": [
    "# https://spark.apache.org/docs/3.1.3/api/python/reference/api/pyspark.sql.DataFrame.crosstab.html#pyspark.sql.DataFrame.crosstab\n",
    "# Computes a pair-wise frequency table of the given columns\n",
    "train.crosstab('water_quality', 'status_group').orderBy('functional', ascending=False).show()"
   ]
  },
  {
   "cell_type": "markdown",
   "metadata": {},
   "source": [
    "Similarly, the waterpoints with unknown quantities are frequently non functional. \n",
    "\n",
    "The majority of the waterpoints that have soft water are functional. Soft water is also very safe to drink. \n",
    "\n",
    "On the other hand, salty water can be deadly to humans and the data indicates there is an approximately euqal proportion of functional and non-functional waterpoints with this kind of water quality.\n"
   ]
  },
  {
   "cell_type": "markdown",
   "metadata": {},
   "source": [
    "## ```extraction type``` and ```status_group```\n",
    "The kind of extraction the waterpoint uses"
   ]
  },
  {
   "cell_type": "code",
   "execution_count": 40,
   "metadata": {},
   "outputs": [
    {
     "name": "stdout",
     "output_type": "stream",
     "text": [
      "+----------------------------+----------+-----------------------+--------------+\n",
      "|extraction_type_status_group|functional|functional needs repair|non functional|\n",
      "+----------------------------+----------+-----------------------+--------------+\n",
      "|                     gravity|     16048|                   2701|          8031|\n",
      "|                 nira/tanira|      5421|                    641|          2092|\n",
      "|                 submersible|      2626|                    227|          1911|\n",
      "|                      swn 80|      2090|                    212|          1368|\n",
      "|               india mark ii|      1448|                     79|           873|\n",
      "|                     afridev|      1200|                     42|           528|\n",
      "|                        mono|      1082|                    129|          1654|\n",
      "|                       other|      1029|                    206|          5195|\n",
      "|                         ksb|       703|                     26|           686|\n",
      "|           other - rope pump|       293|                     17|           141|\n",
      "|              other - swn 81|       120|                      7|           102|\n",
      "|                    windmill|        50|                      7|            60|\n",
      "|                        cemo|        45|                      9|            36|\n",
      "|              india mark iii|        44|                      1|            53|\n",
      "|           other - play pump|        29|                      1|            55|\n",
      "|                      walimi|        23|                     12|            13|\n",
      "|                      climax|         8|                      0|            24|\n",
      "|        other - mkulima/s...|         0|                      0|             2|\n",
      "+----------------------------+----------+-----------------------+--------------+\n",
      "\n"
     ]
    }
   ],
   "source": [
    "# https://spark.apache.org/docs/3.1.3/api/python/reference/api/pyspark.sql.DataFrame.crosstab.html#pyspark.sql.DataFrame.crosstab\n",
    "# Computes a pair-wise frequency table of the given columns\n",
    "train.crosstab('extraction_type', 'status_group').orderBy('functional', ascending=False).show(55)"
   ]
  },
  {
   "cell_type": "markdown",
   "metadata": {},
   "source": [
    "The gravity-powered water pump is the most common among all extraction type. It is an environmentally friendly, double-acting, positive-displacement device, which derives its motive power from the potential energy of a substantial body of water situated above the pump.\n",
    "\n",
    "Other extraction types are more prevalent in non-functional waterpoints\n"
   ]
  },
  {
   "cell_type": "markdown",
   "metadata": {},
   "source": [
    "## ```basin``` and ```status_group```"
   ]
  },
  {
   "cell_type": "code",
   "execution_count": 41,
   "metadata": {},
   "outputs": [
    {
     "name": "stdout",
     "output_type": "stream",
     "text": [
      "+--------------------+----------+-----------------------+--------------+\n",
      "|  basin_status_group|functional|functional needs repair|non functional|\n",
      "+--------------------+----------+-----------------------+--------------+\n",
      "|             Pangani|      5372|                    477|          3091|\n",
      "|       Lake Victoria|      5100|                    989|          4159|\n",
      "|              Rufiji|      5068|                    437|          2471|\n",
      "|            Internal|      4482|                    557|          2746|\n",
      "|          Lake Nyasa|      3324|                    250|          1511|\n",
      "|         Wami / Ruvu|      3136|                    269|          2582|\n",
      "|     Lake Tanganyika|      3107|                    742|          2583|\n",
      "|Ruvuma / Southern...|      1670|                    326|          2497|\n",
      "|          Lake Rukwa|      1000|                    270|          1184|\n",
      "+--------------------+----------+-----------------------+--------------+\n",
      "\n"
     ]
    }
   ],
   "source": [
    "# https://spark.apache.org/docs/3.1.3/api/python/reference/api/pyspark.sql.DataFrame.crosstab.html#pyspark.sql.DataFrame.crosstab\n",
    "# Computes a pair-wise frequency table of the given columns\n",
    "train.crosstab('basin', 'status_group').orderBy('functional', ascending=False).show(55)"
   ]
  },
  {
   "cell_type": "markdown",
   "metadata": {},
   "source": [
    "## ```waterpoint type``` and ```status_group```"
   ]
  },
  {
   "cell_type": "code",
   "execution_count": 42,
   "metadata": {},
   "outputs": [
    {
     "name": "stdout",
     "output_type": "stream",
     "text": [
      "+----------------------------+----------+-----------------------+--------------+\n",
      "|waterpoint_type_status_group|functional|functional needs repair|non functional|\n",
      "+----------------------------+----------+-----------------------+--------------+\n",
      "|          communal standpipe|     17726|                   2260|          8536|\n",
      "|                   hand pump|     10805|                   1029|          5654|\n",
      "|        communal standpip...|      2235|                    648|          3220|\n",
      "|                       other|       840|                    293|          5247|\n",
      "|             improved spring|       563|                     85|           136|\n",
      "|               cattle trough|        84|                      2|            30|\n",
      "|                         dam|         6|                      0|             1|\n",
      "+----------------------------+----------+-----------------------+--------------+\n",
      "\n"
     ]
    }
   ],
   "source": [
    "# https://spark.apache.org/docs/3.1.3/api/python/reference/api/pyspark.sql.DataFrame.crosstab.html#pyspark.sql.DataFrame.crosstab\n",
    "# Computes a pair-wise frequency table of the given columns\n",
    "train.crosstab('waterpoint_type', 'status_group').orderBy('functional', ascending=False).show(55)"
   ]
  },
  {
   "cell_type": "markdown",
   "metadata": {},
   "source": [
    "The standpipe is used as a communal water supply for neighbourhoods which lack individual housing water service. This is the most common approach for water supply regardless of the waterpoint functional status. \n",
    "\n",
    "Generally standpipes often yield unreliable service and lead to water scarcity for large numbers of people and that is why we observe that at least 30% of all communal standpipes are either non functional or need repair."
   ]
  },
  {
   "cell_type": "markdown",
   "metadata": {},
   "source": [
    "## ```source``` and ```status_group```"
   ]
  },
  {
   "cell_type": "code",
   "execution_count": 43,
   "metadata": {},
   "outputs": [
    {
     "name": "stdout",
     "output_type": "stream",
     "text": [
      "+--------------------+----------+-----------------------+--------------+\n",
      "| source_status_group|functional|functional needs repair|non functional|\n",
      "+--------------------+----------+-----------------------+--------------+\n",
      "|              spring|     10592|                   1276|          5153|\n",
      "|        shallow well|      8324|                    957|          7543|\n",
      "|               river|      5465|                   1221|          2926|\n",
      "|         machine dbh|      5422|                    491|          5162|\n",
      "|rainwater harvesting|      1386|                    314|           595|\n",
      "|            hand dtw|       497|                     17|           360|\n",
      "|                 dam|       253|                     24|           379|\n",
      "|                lake|       162|                     12|           591|\n",
      "|               other|       126|                      1|            85|\n",
      "|             unknown|        32|                      4|            30|\n",
      "+--------------------+----------+-----------------------+--------------+\n",
      "\n"
     ]
    }
   ],
   "source": [
    "# https://spark.apache.org/docs/3.1.3/api/python/reference/api/pyspark.sql.DataFrame.crosstab.html#pyspark.sql.DataFrame.crosstab\n",
    "# Computes a pair-wise frequency table of the given columns\n",
    "train.crosstab('source', 'status_group').orderBy('functional', ascending=False).show(55)"
   ]
  },
  {
   "cell_type": "markdown",
   "metadata": {},
   "source": [
    "The majority of functional waterpoints source its water from spring, shallow well and rivers. We observe that a considerable number of waterpoints that source their water from the shallow well category are non-functional. "
   ]
  },
  {
   "cell_type": "markdown",
   "metadata": {},
   "source": [
    "**5.6 Exploring Correlations**\n",
    "\n",
    "Next, we will explore correlations between numerical variables to understand the extent to which these features are associated with one another\n",
    "\n",
    "Let us use String Indexer to encode the ```status_group``` target labels to a column of label indices. The indices are in [0, 3), ordered by label frequencies. So, the most frequent label gets index 0. "
   ]
  },
  {
   "cell_type": "code",
   "execution_count": 44,
   "metadata": {},
   "outputs": [],
   "source": [
    "labelencoder = StringIndexer(inputCol=\"status_group\", outputCol=\"status_group_index\")\n",
    "train_transformed = labelencoder.fit(train).transform(train)"
   ]
  },
  {
   "cell_type": "code",
   "execution_count": 45,
   "metadata": {
    "scrolled": true
   },
   "outputs": [
    {
     "data": {
      "text/html": [
       "<div>\n",
       "<style scoped>\n",
       "    .dataframe tbody tr th:only-of-type {\n",
       "        vertical-align: middle;\n",
       "    }\n",
       "\n",
       "    .dataframe tbody tr th {\n",
       "        vertical-align: top;\n",
       "    }\n",
       "\n",
       "    .dataframe thead th {\n",
       "        text-align: right;\n",
       "    }\n",
       "</style>\n",
       "<table border=\"1\" class=\"dataframe\">\n",
       "  <thead>\n",
       "    <tr style=\"text-align: right;\">\n",
       "      <th></th>\n",
       "      <th>amount_tsh</th>\n",
       "      <th>gps_height</th>\n",
       "      <th>longitude</th>\n",
       "      <th>latitude</th>\n",
       "      <th>num_private</th>\n",
       "      <th>region_code</th>\n",
       "      <th>district_code</th>\n",
       "      <th>population</th>\n",
       "      <th>status_group_index</th>\n",
       "    </tr>\n",
       "  </thead>\n",
       "  <tbody>\n",
       "    <tr>\n",
       "      <th>amount_tsh</th>\n",
       "      <td>1.000000</td>\n",
       "      <td>0.076650</td>\n",
       "      <td>0.022134</td>\n",
       "      <td>-0.052670</td>\n",
       "      <td>0.002944</td>\n",
       "      <td>-0.026813</td>\n",
       "      <td>-0.023599</td>\n",
       "      <td>0.016288</td>\n",
       "      <td>-0.043533</td>\n",
       "    </tr>\n",
       "    <tr>\n",
       "      <th>gps_height</th>\n",
       "      <td>0.076650</td>\n",
       "      <td>1.000000</td>\n",
       "      <td>0.149155</td>\n",
       "      <td>-0.035751</td>\n",
       "      <td>0.007237</td>\n",
       "      <td>-0.183521</td>\n",
       "      <td>-0.171233</td>\n",
       "      <td>0.135003</td>\n",
       "      <td>-0.096408</td>\n",
       "    </tr>\n",
       "    <tr>\n",
       "      <th>longitude</th>\n",
       "      <td>0.022134</td>\n",
       "      <td>0.149155</td>\n",
       "      <td>1.000000</td>\n",
       "      <td>-0.425802</td>\n",
       "      <td>0.023873</td>\n",
       "      <td>0.034197</td>\n",
       "      <td>0.151398</td>\n",
       "      <td>0.086590</td>\n",
       "      <td>-0.071635</td>\n",
       "    </tr>\n",
       "    <tr>\n",
       "      <th>latitude</th>\n",
       "      <td>-0.052670</td>\n",
       "      <td>-0.035751</td>\n",
       "      <td>-0.425802</td>\n",
       "      <td>1.000000</td>\n",
       "      <td>0.006837</td>\n",
       "      <td>-0.221018</td>\n",
       "      <td>-0.201020</td>\n",
       "      <td>-0.022152</td>\n",
       "      <td>0.021020</td>\n",
       "    </tr>\n",
       "    <tr>\n",
       "      <th>num_private</th>\n",
       "      <td>0.002944</td>\n",
       "      <td>0.007237</td>\n",
       "      <td>0.023873</td>\n",
       "      <td>0.006837</td>\n",
       "      <td>1.000000</td>\n",
       "      <td>-0.020377</td>\n",
       "      <td>-0.004478</td>\n",
       "      <td>0.003818</td>\n",
       "      <td>-0.006159</td>\n",
       "    </tr>\n",
       "    <tr>\n",
       "      <th>region_code</th>\n",
       "      <td>-0.026813</td>\n",
       "      <td>-0.183521</td>\n",
       "      <td>0.034197</td>\n",
       "      <td>-0.221018</td>\n",
       "      <td>-0.020377</td>\n",
       "      <td>1.000000</td>\n",
       "      <td>0.678602</td>\n",
       "      <td>0.094088</td>\n",
       "      <td>0.083590</td>\n",
       "    </tr>\n",
       "    <tr>\n",
       "      <th>district_code</th>\n",
       "      <td>-0.023599</td>\n",
       "      <td>-0.171233</td>\n",
       "      <td>0.151398</td>\n",
       "      <td>-0.201020</td>\n",
       "      <td>-0.004478</td>\n",
       "      <td>0.678602</td>\n",
       "      <td>1.000000</td>\n",
       "      <td>0.061831</td>\n",
       "      <td>0.033979</td>\n",
       "    </tr>\n",
       "    <tr>\n",
       "      <th>population</th>\n",
       "      <td>0.016288</td>\n",
       "      <td>0.135003</td>\n",
       "      <td>0.086590</td>\n",
       "      <td>-0.022152</td>\n",
       "      <td>0.003818</td>\n",
       "      <td>0.094088</td>\n",
       "      <td>0.061831</td>\n",
       "      <td>1.000000</td>\n",
       "      <td>-0.015198</td>\n",
       "    </tr>\n",
       "    <tr>\n",
       "      <th>status_group_index</th>\n",
       "      <td>-0.043533</td>\n",
       "      <td>-0.096408</td>\n",
       "      <td>-0.071635</td>\n",
       "      <td>0.021020</td>\n",
       "      <td>-0.006159</td>\n",
       "      <td>0.083590</td>\n",
       "      <td>0.033979</td>\n",
       "      <td>-0.015198</td>\n",
       "      <td>1.000000</td>\n",
       "    </tr>\n",
       "  </tbody>\n",
       "</table>\n",
       "</div>"
      ],
      "text/plain": [
       "                    amount_tsh  gps_height  longitude  latitude  num_private  \\\n",
       "amount_tsh            1.000000    0.076650   0.022134 -0.052670     0.002944   \n",
       "gps_height            0.076650    1.000000   0.149155 -0.035751     0.007237   \n",
       "longitude             0.022134    0.149155   1.000000 -0.425802     0.023873   \n",
       "latitude             -0.052670   -0.035751  -0.425802  1.000000     0.006837   \n",
       "num_private           0.002944    0.007237   0.023873  0.006837     1.000000   \n",
       "region_code          -0.026813   -0.183521   0.034197 -0.221018    -0.020377   \n",
       "district_code        -0.023599   -0.171233   0.151398 -0.201020    -0.004478   \n",
       "population            0.016288    0.135003   0.086590 -0.022152     0.003818   \n",
       "status_group_index   -0.043533   -0.096408  -0.071635  0.021020    -0.006159   \n",
       "\n",
       "                    region_code  district_code  population  status_group_index  \n",
       "amount_tsh            -0.026813      -0.023599    0.016288           -0.043533  \n",
       "gps_height            -0.183521      -0.171233    0.135003           -0.096408  \n",
       "longitude              0.034197       0.151398    0.086590           -0.071635  \n",
       "latitude              -0.221018      -0.201020   -0.022152            0.021020  \n",
       "num_private           -0.020377      -0.004478    0.003818           -0.006159  \n",
       "region_code            1.000000       0.678602    0.094088            0.083590  \n",
       "district_code          0.678602       1.000000    0.061831            0.033979  \n",
       "population             0.094088       0.061831    1.000000           -0.015198  \n",
       "status_group_index     0.083590       0.033979   -0.015198            1.000000  "
      ]
     },
     "execution_count": 45,
     "metadata": {},
     "output_type": "execute_result"
    }
   ],
   "source": [
    "train_transformed.select('amount_tsh', 'gps_height', 'longitude', 'latitude', 'num_private', 'region_code', 'district_code', 'population', 'status_group_index').toPandas().corr(numeric_only=False)"
   ]
  },
  {
   "cell_type": "code",
   "execution_count": 46,
   "metadata": {},
   "outputs": [],
   "source": [
    "def plot_correlations(df):\n",
    "    corr = df.toPandas().corr(numeric_only=False)\n",
    "    fig, ax = plt.subplots(1, figsize=(20,8))\n",
    "    ax = sns.heatmap(corr, annot=True)\n",
    "    bottom, top = ax.get_ylim()\n",
    "    ax.set_ylim(bottom + 0.5, top - 0.5);"
   ]
  },
  {
   "cell_type": "code",
   "execution_count": 47,
   "metadata": {},
   "outputs": [
    {
     "data": {
      "image/png": "[encoded data removed]",
      "text/plain": [
       "<Figure size 1440x576 with 2 Axes>"
      ]
     },
     "metadata": {
      "needs_background": "light"
     },
     "output_type": "display_data"
    }
   ],
   "source": [
    "# Select numeric values for correlations\n",
    "correlation_df = train_transformed.select('amount_tsh', 'gps_height', 'longitude', 'latitude', 'construction_year', 'num_private', 'region_code', 'district_code', 'population', 'status_group_index')\n",
    "plot_correlations(correlation_df)"
   ]
  },
  {
   "cell_type": "markdown",
   "metadata": {},
   "source": [
    "## 6. Modeling"
   ]
  },
  {
   "cell_type": "code",
   "execution_count": 48,
   "metadata": {},
   "outputs": [
    {
     "name": "stdout",
     "output_type": "stream",
     "text": [
      "Count of records before dropping duplicates = 59400\n",
      "Count of records after dropping duplicates = 59364\n"
     ]
    }
   ],
   "source": [
    "# Get fresh training set\n",
    "train = X.join(y, on=[\"id\"])\n",
    "# Drop two cols\n",
    "train = train.drop('recorded_by', 'id')\n",
    "print(f\"Count of records before dropping duplicates = {train.count()}\")\n",
    "# Remove duplicates\n",
    "train = train.dropDuplicates()\n",
    "print(f\"Count of records after dropping duplicates = {train.count()}\")"
   ]
  },
  {
   "cell_type": "markdown",
   "metadata": {},
   "source": [
    "**6.1 Create a train-test split**\n",
    "\n",
    "The way Spark implements sampleBy is non-deterministic, even with the use of a seed value. \n",
    "\n",
    "The reason for this is because each time an action is performed on the RDD, it is re-fetched, repartitioned, and re-sorted for each sampleBy calculation. This will result in inconsistent behavior. \n",
    "\n",
    "To solve this we need to ensure that RDD partitions and sorting order are idempotent. One way to do this is through caching the dataframe before the sampleBy operations."
   ]
  },
  {
   "cell_type": "code",
   "execution_count": 49,
   "metadata": {},
   "outputs": [],
   "source": [
    "# Persist dataframe to ensure reproducibility\n",
    "train = train.persist(pyspark.StorageLevel.MEMORY_AND_DISK)"
   ]
  },
  {
   "cell_type": "code",
   "execution_count": 50,
   "metadata": {},
   "outputs": [],
   "source": [
    "def analyze_distribution(df):\n",
    "    \n",
    "    # Analyze value counts of the label\n",
    "    class_distribution = df.groupBy('status_group').count().orderBy('count')\n",
    "    class_distribution.show()\n",
    "    # These frequency counts are not big data, we can convert to numpy array for plotting with matplotlib\n",
    "    import matplotlib.pyplot as plt\n",
    "    fig, ax = plt.subplots()\n",
    "\n",
    "    counts = class_distribution.select('count').collect()\n",
    "    labels = class_distribution.select('status_group').collect()\n",
    "    bar_colors = ['tab:red', 'tab:green', 'tab:orange']\n",
    "\n",
    "    ax.bar(np.array(labels).flatten(), np.array(counts).flatten(), color=bar_colors)\n",
    "    ax.set_ylabel('Class frequency')\n",
    "    ax.set_title('Class distribution')\n",
    "    plt.show()"
   ]
  },
  {
   "cell_type": "code",
   "execution_count": 51,
   "metadata": {
    "scrolled": false
   },
   "outputs": [
    {
     "name": "stdout",
     "output_type": "stream",
     "text": [
      "+--------------------+-------------------+\n",
      "|        status_group|              count|\n",
      "+--------------------+-------------------+\n",
      "|functional needs ...|0.07272084091368507|\n",
      "|      non functional|0.38447543966040026|\n",
      "|          functional| 0.5434101475641803|\n",
      "+--------------------+-------------------+\n",
      "\n"
     ]
    }
   ],
   "source": [
    "class_distribution_fractions = class_distribution.withColumn('count', fn.col('count')/train.count())\n",
    "class_distribution_fractions.show()"
   ]
  },
  {
   "cell_type": "code",
   "execution_count": 52,
   "metadata": {},
   "outputs": [
    {
     "data": {
      "text/plain": [
       "{'functional needs repair': 0.07272084091368507,\n",
       " 'non functional': 0.38447543966040026,\n",
       " 'functional': 0.5434101475641803}"
      ]
     },
     "execution_count": 52,
     "metadata": {},
     "output_type": "execute_result"
    }
   ],
   "source": [
    "fractions = {}\n",
    "for label in class_distribution_fractions.collect():\n",
    "    fractions[label[0]] = label[1] \n",
    "fractions"
   ]
  },
  {
   "cell_type": "code",
   "execution_count": 53,
   "metadata": {},
   "outputs": [],
   "source": [
    "# Sample train set\n",
    "stratified_train = train.sampleBy(col='status_group', fractions=fractions, seed=42)"
   ]
  },
  {
   "cell_type": "code",
   "execution_count": 54,
   "metadata": {},
   "outputs": [],
   "source": [
    "stratified_val = train.subtract(stratified_train)\n",
    "# Persist dataframe to ensure reproducibility\n",
    "stratified_val = stratified_val.persist(pyspark.StorageLevel.MEMORY_AND_DISK)\n",
    "# Sample validation set\n",
    "stratified_val = stratified_val.sampleBy(col='status_group', fractions=fractions, seed=42)"
   ]
  },
  {
   "cell_type": "code",
   "execution_count": 55,
   "metadata": {
    "scrolled": false
   },
   "outputs": [
    {
     "name": "stdout",
     "output_type": "stream",
     "text": [
      "26658\n",
      "13721\n"
     ]
    }
   ],
   "source": [
    "print(stratified_train.count())\n",
    "print(stratified_val.count())"
   ]
  },
  {
   "cell_type": "markdown",
   "metadata": {},
   "source": [
    "**6.2 Plot stratified samples**"
   ]
  },
  {
   "cell_type": "code",
   "execution_count": 56,
   "metadata": {
    "scrolled": false
   },
   "outputs": [
    {
     "name": "stdout",
     "output_type": "stream",
     "text": [
      "+--------------------+-----+\n",
      "|        status_group|count|\n",
      "+--------------------+-----+\n",
      "|functional needs ...|  304|\n",
      "|      non functional| 8819|\n",
      "|          functional|17535|\n",
      "+--------------------+-----+\n",
      "\n"
     ]
    },
    {
     "data": {
      "image/png": "[encoded data removed]",
      "text/plain": [
       "<Figure size 432x288 with 1 Axes>"
      ]
     },
     "metadata": {
      "needs_background": "light"
     },
     "output_type": "display_data"
    }
   ],
   "source": [
    "analyze_distribution(stratified_train)"
   ]
  },
  {
   "cell_type": "code",
   "execution_count": 57,
   "metadata": {},
   "outputs": [
    {
     "name": "stdout",
     "output_type": "stream",
     "text": [
      "+--------------------+-----+\n",
      "|        status_group|count|\n",
      "+--------------------+-----+\n",
      "|functional needs ...|  308|\n",
      "|      non functional| 5343|\n",
      "|          functional| 8070|\n",
      "+--------------------+-----+\n",
      "\n"
     ]
    },
    {
     "data": {
      "image/png": "[encoded data removed]",
      "text/plain": [
       "<Figure size 432x288 with 1 Axes>"
      ]
     },
     "metadata": {
      "needs_background": "light"
     },
     "output_type": "display_data"
    }
   ],
   "source": [
    "analyze_distribution(stratified_val)"
   ]
  },
  {
   "cell_type": "code",
   "execution_count": 58,
   "metadata": {},
   "outputs": [],
   "source": [
    "# Now we have deduplicated the training set, lets separate independednt and dependent features\n",
    "def get_features_and_labels(df):\n",
    "    X = df.drop('status_group') # Features\n",
    "    y = df.select('status_group') # Labels\n",
    "    return X, y"
   ]
  },
  {
   "cell_type": "code",
   "execution_count": 59,
   "metadata": {
    "scrolled": true
   },
   "outputs": [],
   "source": [
    "# X_train, y_train = get_features_and_labels(stratified_train)\n",
    "# X_val, y_val = get_features_and_labels(stratified_val)"
   ]
  },
  {
   "cell_type": "code",
   "execution_count": 60,
   "metadata": {},
   "outputs": [],
   "source": [
    "X_train = stratified_train\n",
    "X_val = stratified_val"
   ]
  },
  {
   "cell_type": "markdown",
   "metadata": {},
   "source": [
    "**6.3 Data preprocessing: Feature selection**\n",
    "\n",
    "Based on the correlation plots, some features are highly correlated with one another. This is due to the fact that they contain very similar information and in some case identical information.\n",
    "\n",
    "In this phase, we will apply data reduction techniques to reduce the number of features, and values that are fed into the learning algorithm. This is especially helpful in a Big Data scenario because a data set may be too large for a leraning algorithm such that it exceeds the processing capacity. In addition, there may be a subset of features with predictive performance comparable to the full set of features and lastly, the expected time for inducing a solution may decrease significantly.\n",
    "\n",
    "Therefore, I will remove and keep the following features as follows:\n",
    "\n",
    "- **Keep**: extraction_type_class | **Remove**: extraction_type, extraction_type_group \n",
    "\n",
    "- **Keep**: quality_group | **Remove**: water_quality\n",
    "\n",
    "- **Keep**: quantity_group | **Remove**: quantity \n",
    "\n",
    "- **Keep**: source_type_class | **Remove**:source, source_type\n",
    "\n",
    "- **Keep**: waterpoint_type_group | **Remove**: waterpoint_type\n",
    "\n",
    "- **Keep**: payment_type | **Remove**: payment\n",
    "\n",
    "By keeping the ```group``` or ```class``` features, I am able to reduce the number of distinct values of a feature so that the size of the search space for patterns is reduced. This smooths out any noise.\n"
   ]
  },
  {
   "cell_type": "markdown",
   "metadata": {},
   "source": [
    "**6.4 Deriving new features**\n",
    "\n",
    "Derive new features by transforming dates"
   ]
  },
  {
   "cell_type": "code",
   "execution_count": 61,
   "metadata": {},
   "outputs": [],
   "source": [
    "# Extract month/year and age recorded information\n",
    "def transform_dates(df):\n",
    "    \"\"\"Extracts information from datetime column to create new features\n",
    "\n",
    "    Returns:\n",
    "        - month_recorded: first 3 character of name of the month recorded\n",
    "        - year_recorded: four-digit year\n",
    "        - age_recorded: difference between construction year and year recorded\n",
    "    \"\"\"\n",
    "    df = df.withColumn('year_recorded', year(df.date_recorded))\n",
    "    df = df.withColumn('month_recorded', month(df.date_recorded))\n",
    "    df = df.withColumn('age_recorded', (df.year_recorded)-(df.construction_year))\n",
    "    return df\n",
    "    "
   ]
  },
  {
   "cell_type": "code",
   "execution_count": 62,
   "metadata": {},
   "outputs": [],
   "source": [
    "X_train = transform_dates(X_train)\n",
    "X_val = transform_dates(X_val)"
   ]
  },
  {
   "cell_type": "code",
   "execution_count": 63,
   "metadata": {},
   "outputs": [],
   "source": [
    "# X_train.select('year_recorded', 'month_recorded', 'age_recorded').show()"
   ]
  },
  {
   "cell_type": "markdown",
   "metadata": {},
   "source": [
    "**6.5 Handling missing values**"
   ]
  },
  {
   "cell_type": "code",
   "execution_count": 64,
   "metadata": {
    "scrolled": true
   },
   "outputs": [
    {
     "name": "stdout",
     "output_type": "stream",
     "text": [
      "-RECORD 0----------------------\n",
      " amount_tsh            | 0     \n",
      " date_recorded         | 0     \n",
      " funder                | 1570  \n",
      " gps_height            | 0     \n",
      " installer             | 1586  \n",
      " longitude             | 0     \n",
      " latitude              | 0     \n",
      " wpt_name              | 0     \n",
      " num_private           | 0     \n",
      " basin                 | 0     \n",
      " subvillage            | 187   \n",
      " region                | 0     \n",
      " region_code           | 0     \n",
      " district_code         | 0     \n",
      " lga                   | 0     \n",
      " ward                  | 0     \n",
      " population            | 0     \n",
      " public_meeting        | 1470  \n",
      " scheme_management     | 1720  \n",
      " scheme_name           | 12715 \n",
      " permit                | 1339  \n",
      " construction_year     | 0     \n",
      " extraction_type       | 0     \n",
      " extraction_type_group | 0     \n",
      " extraction_type_class | 0     \n",
      " management            | 0     \n",
      " management_group      | 0     \n",
      " payment               | 0     \n",
      " payment_type          | 0     \n",
      " water_quality         | 0     \n",
      " quality_group         | 0     \n",
      " quantity              | 0     \n",
      " quantity_group        | 0     \n",
      " source                | 0     \n",
      " source_type           | 0     \n",
      " source_class          | 0     \n",
      " waterpoint_type       | 0     \n",
      " waterpoint_type_group | 0     \n",
      " status_group          | 0     \n",
      " year_recorded         | 0     \n",
      " month_recorded        | 0     \n",
      " age_recorded          | 0     \n",
      "\n"
     ]
    }
   ],
   "source": [
    "missing_values_train = X_train.select([fn.count(fn.when(fn.col(c).contains('None') | \\\n",
    "                            fn.col(c).contains('NULL') | \\\n",
    "                            (fn.col(c) == '' ) | \\\n",
    "                            fn.col(c).isNull() | \\\n",
    "#                             fn.col(c).contains(0) | \\\n",
    "                            fn.isnan(c), c \n",
    "                           )).alias(c)\n",
    "                    for c in X_train.columns])\n",
    "missing_values_train.show(vertical=True)"
   ]
  },
  {
   "cell_type": "markdown",
   "metadata": {},
   "source": [
    "scheme_name has close to 50% missing values out of all the dataset records. It can be dropped."
   ]
  },
  {
   "cell_type": "code",
   "execution_count": 65,
   "metadata": {},
   "outputs": [],
   "source": [
    "# def replace_with_nan(df, features):\n",
    "def replace_with_nan(df):\n",
    "    \"\"\"Handles missing values given a\n",
    "       mapping from column name (string) to replacement value\n",
    "    \"\"\"\n",
    "    na_map = {'public_meeting':'NaN', \n",
    "              'scheme_management':'NaN', \n",
    "              'permit':'NaN'}\n",
    "    df = df.na.fill(na_map)\n",
    "    return df\n",
    "    "
   ]
  },
  {
   "cell_type": "code",
   "execution_count": 66,
   "metadata": {},
   "outputs": [],
   "source": [
    "X_train = replace_with_nan(X_train)\n",
    "X_val = replace_with_nan(X_val)"
   ]
  },
  {
   "cell_type": "markdown",
   "metadata": {},
   "source": [
    "**6.6 Local estimation**"
   ]
  },
  {
   "cell_type": "code",
   "execution_count": 67,
   "metadata": {},
   "outputs": [],
   "source": [
    "def local_estimation_row_validator(row, lookup):\n",
    "    \"\"\"Process each row to detect which ones require imputation\n",
    "       Leverage lookup table to get the mean value for a given region code\n",
    "    \"\"\"\n",
    "    if row.longitude == '0.0':\n",
    "        return lookup.get(row.region_code), row.region_code\n",
    "#         return lbr.filter(lbr.regionup_code == row.region_code).select('avg(longitude)').collect()[0][0], row.region_code \n",
    "    else:\n",
    "        return row.longitude, row.region_code"
   ]
  },
  {
   "cell_type": "code",
   "execution_count": 68,
   "metadata": {},
   "outputs": [],
   "source": [
    "def local_estimation(df):\n",
    "    \"\"\"Replace missing values with feature mean/median \n",
    "       for all records belonging to the same region\n",
    "    \"\"\"\n",
    "    # Get region specific longitude means\n",
    "    longitude_means_by_region = df.select(fn.col('longitude').cast('double'), 'region_code') \\\n",
    "                                .groupBy('region_code').mean() \\\n",
    "                                .toPandas() \\\n",
    "                                .rename(columns={'region_code':'region_code', \n",
    "                                                 'avg(longitude)': 'avg_longitude'})\n",
    "    # Create a dictionary mapping region codes to their means\n",
    "    longitude_mean_dict = dict(zip(longitude_means_by_region.region_code, \n",
    "                                   longitude_means_by_region.avg_longitude))\n",
    "    \n",
    "    # Convert df to rdd and use map to iterate through each row and impute on longitude = 0 rows\n",
    "    rdd = df \\\n",
    "    .select('longitude', 'region_code') \\\n",
    "    .rdd.map(lambda row: local_estimation_row_validator(row, longitude_mean_dict))\n",
    "    # Convert rdd back to df\n",
    "    df_intermediate = rdd.toDF(['longitude_impute', 'regioncode'])\n",
    "    df_intermediate = df_intermediate.drop('regioncode') # drop duplicated column\n",
    "    df_intermediate = df_intermediate.drop('lonigtude') # drop column with missing vals\n",
    "    # Can't simply use withColumn to add new column with two dataframes \n",
    "    # Solution: https://stackoverflow.com/questions/42853778/add-a-column-from-another-dataframe\n",
    "    df_intermediate = df_intermediate.withColumn('row_index', \n",
    "                                                 fn.row_number() \\\n",
    "                                                 .over(Window.orderBy(fn.monotonically_increasing_id())))\n",
    "    df = df.withColumn('row_index',\n",
    "                      fn.row_number()\n",
    "                       .over(Window.orderBy(fn.monotonically_increasing_id())))\n",
    "    df = df.join(df_intermediate, on=['row_index']).drop('row_index')\n",
    "    return df"
   ]
  },
  {
   "cell_type": "code",
   "execution_count": 69,
   "metadata": {},
   "outputs": [],
   "source": [
    "X_train = local_estimation(X_train)\n",
    "X_val = local_estimation(X_val)"
   ]
  },
  {
   "cell_type": "markdown",
   "metadata": {},
   "source": [
    "**6.7 Value reduction**\n",
    "\n",
    "The dataset contains high cardinality features such as ```funder``` and ```installer```. These features have over 1000 possible categories. We need to generalize the nominal attributes and reduce the values they can take on. This will make pattern recognition simpler for the learning algorithm. \n",
    "\n",
    "One way to deal with this situation is to perform binning. Next I will partition the values of these features into two bins - major and minor\n",
    "\n",
    "Major - top 100 funders and installers responsible for 80% of waterpoints\n",
    "\n",
    "Minor - any funders or installers that are not in the top 100 list"
   ]
  },
  {
   "cell_type": "code",
   "execution_count": 70,
   "metadata": {},
   "outputs": [],
   "source": [
    "def bin_feature(df):\n",
    "    \"\"\"Performs binning to reduce and smooth funder and installer feature\n",
    "    values by frequency\n",
    "    \"\"\"\n",
    "    # Get distributions with row index\n",
    "    installer_distribution = df.groupBy('installer') \\\n",
    "                                .count() \\\n",
    "                                .orderBy('count', ascending=False) \\\n",
    "                                .withColumn('row_index', fn.row_number()\n",
    "                                            .over(Window.orderBy(fn.monotonically_increasing_id())))\n",
    "    funder_distribution = df.groupBy('funder') \\\n",
    "                                .count() \\\n",
    "                                .orderBy('count', ascending=False) \\\n",
    "                                .withColumn('row_index', fn.row_number()\n",
    "                                            .over(Window.orderBy(fn.monotonically_increasing_id())))\n",
    "    \n",
    "    # Bucketize by row indiex - First 100 frequent values get 0, remaining values get 1\n",
    "    installer_lookup = bin_feature_helper(installer_distribution, \"installer\")\n",
    "    funder_lookup = bin_feature_helper(funder_distribution, \"funder\")\n",
    "    lookup = [funder_lookup, installer_lookup]\n",
    "    \n",
    "    # Convert df to rdd and use map to iterate through each row\n",
    "    rdd = df \\\n",
    "    .select('funder', 'installer') \\\n",
    "    .rdd.map(lambda row: bin_feature_helper_2(row, lookup))\n",
    "    # Convert rdd back to df\n",
    "    df_intermediate = rdd.toDF(['funder_bin', 'installer_bin'])\n",
    "    df_intermediate = df_intermediate.withColumn('row_index', \n",
    "                                                 fn.row_number() \\\n",
    "                                                 .over(Window.orderBy(fn.monotonically_increasing_id())))\n",
    "    df = df.withColumn('row_index',\n",
    "                      fn.row_number()\n",
    "                       .over(Window.orderBy(fn.monotonically_increasing_id())))\n",
    "    df = df.join(df_intermediate, on=['row_index']).drop('row_index')\n",
    "    df = df.drop('funder', 'installer') # drop duplicated column\n",
    "    return df"
   ]
  },
  {
   "cell_type": "code",
   "execution_count": 71,
   "metadata": {},
   "outputs": [],
   "source": [
    "def bin_feature_helper(dist, feature_name:str):\n",
    "    \"\"\" Bucketize features and returns a lookup dict\n",
    "    \"\"\"\n",
    "    output_col_name= f\"{feature_name}_buckets\"\n",
    "    bucketizer = Bucketizer()\n",
    "    bucketizer.setSplits([0, 100, float(\"inf\")])\n",
    "    bucketizer.setInputCol(\"row_index\")\n",
    "    bucketizer.setOutputCol(output_col_name)\n",
    "    bucketed = bucketizer.setHandleInvalid(\"keep\").transform(dist)\n",
    "    bins_df = bucketed.toPandas()\n",
    "    lookup = dict(zip(bins_df[f\"{feature_name}\"], bins_df[f\"{output_col_name}\"]))\n",
    "    return lookup"
   ]
  },
  {
   "cell_type": "code",
   "execution_count": 72,
   "metadata": {},
   "outputs": [],
   "source": [
    "def bin_feature_helper_2(row, lookup):\n",
    "    \"\"\"Process each row and use lookup dict to assign bucket values to RDD records\n",
    "    \"\"\"\n",
    "    #lookup[0] is funder\n",
    "    #lookup[1] is installer\n",
    "    return lookup[0].get(row.funder), lookup[1].get(row.installer)\n",
    "\n",
    "\n",
    "    "
   ]
  },
  {
   "cell_type": "code",
   "execution_count": 73,
   "metadata": {
    "scrolled": true
   },
   "outputs": [],
   "source": [
    "X_train = bin_feature(X_train)\n",
    "X_val = bin_feature(X_val)"
   ]
  },
  {
   "cell_type": "markdown",
   "metadata": {},
   "source": [
    "**6.8 Scale numeric features**"
   ]
  },
  {
   "cell_type": "code",
   "execution_count": 74,
   "metadata": {},
   "outputs": [],
   "source": [
    "numerical_features = ['amount_tsh', 'gps_height', 'num_private', 'construction_year', 'month_recorded', \n",
    "                      'year_recorded', 'age_recorded', 'population', 'longitude_impute', 'latitude']"
   ]
  },
  {
   "cell_type": "code",
   "execution_count": 75,
   "metadata": {},
   "outputs": [],
   "source": [
    "def scale_numerical_feature(df, features):\n",
    "    \"\"\"\"\"\"\n",
    "    # UDF for converting column type from vector to double type\n",
    "    unlist = fn.udf(lambda x: round(float(list(x)[0]),3), typ.DoubleType())\n",
    "    \n",
    "    for col in features:\n",
    "        \n",
    "        df = df.withColumn(col, df[col].cast('double'))\n",
    "        # VectorAssembler Transformation - Converting column to vector type\n",
    "        assembler = VectorAssembler(inputCols=[col],outputCol=col+\"_Vect\")\n",
    "\n",
    "        # MinMaxScaler Transformation\n",
    "        scaler = MinMaxScaler(inputCol=col+\"_Vect\", outputCol=col+\"_Scaled\")\n",
    "\n",
    "        # Pipeline of VectorAssembler and MinMaxScaler\n",
    "        pipeline = Pipeline(stages=[assembler, scaler])\n",
    "\n",
    "        # Fitting pipeline on dataframe\n",
    "        df = pipeline.fit(df).transform(df).withColumn(col+\"_Scaled\", unlist(col+\"_Scaled\")).drop(col+\"_Vect\")\n",
    "        \n",
    "    return df\n",
    "        "
   ]
  },
  {
   "cell_type": "code",
   "execution_count": 76,
   "metadata": {},
   "outputs": [],
   "source": [
    "X_train = scale_numerical_feature(X_train, numerical_features)\n",
    "X_val = scale_numerical_feature(X_val, numerical_features)"
   ]
  },
  {
   "cell_type": "markdown",
   "metadata": {},
   "source": [
    "**6.9 Encode categorical features**\n",
    "\n",
    "I will one hot encode our categorical features such that for ```n``` distinct values in the feature, we will only require and create ```n-1``` columns to represent the values. The last category is not included by default because it makes the vector entries linearly dependent. To perform one-hot encoding in PySpark, we must:\n",
    "\n",
    "1. convert the categorical column into a numeric column (0, 1, ...) using StringIndexer\n",
    "\n",
    "2. convert the numeric column into one-hot encoded columns using OneHotEncoder"
   ]
  },
  {
   "cell_type": "code",
   "execution_count": 77,
   "metadata": {},
   "outputs": [],
   "source": [
    "categorical_features = ['basin', 'region', 'public_meeting', 'scheme_management',\n",
    "                        'permit', 'extraction_type_class', 'management_group', 'payment_type', \n",
    "                        'quality_group', 'quantity', 'source_class', 'waterpoint_type_group', 'quantity_group', 'status_group']"
   ]
  },
  {
   "cell_type": "code",
   "execution_count": 78,
   "metadata": {},
   "outputs": [],
   "source": [
    "def index_string(df, features):\n",
    "    output_cols = [f'{f}_indexed' for f in features]\n",
    "    stringindexer = StringIndexer(inputCols=features, \n",
    "                  outputCols=output_cols,\n",
    "                  stringOrderType=\"frequencyDesc\",\n",
    "                  handleInvalid='keep') # put invalid data in a special additional bucket, at index numLabels\n",
    "    df_fitted = stringindexer.fit(df)\n",
    "    df_indexed = df_fitted.transform(df)\n",
    "    \n",
    "    return df_indexed, output_cols\n",
    "    "
   ]
  },
  {
   "cell_type": "markdown",
   "metadata": {},
   "source": [
    "Here, note the following:\n",
    "\n",
    "- the ```inputCols``` argument are the string categorical features, while ```outputCols``` are the corresponding feature names of the new numerically encoded column.\n",
    "\n",
    "- the numeric category that is assigned will depend on the frequency of the category. By default stringOrderType='frequencyDesc', which means that the category that occurs the most will be assigned the category index of 0.\n",
    "\n",
    "- the ```df_fitted``` object has a labels property holding the mapped column labels"
   ]
  },
  {
   "cell_type": "code",
   "execution_count": 79,
   "metadata": {},
   "outputs": [],
   "source": [
    "def one_hot_encode(df, features):\n",
    "    df, input_cols = index_string(df, features)\n",
    "    output_cols = [f'{f}_encoded' for f in features]\n",
    "    #Instantiate One hot encoder \n",
    "    ohe = OneHotEncoder()\n",
    "    # Set input and output col pairs\n",
    "    ohe.setInputCols(input_cols)\n",
    "    ohe.setOutputCols(output_cols)\n",
    "    \n",
    "    # Fit ohe\n",
    "    model = ohe.fit(df)\n",
    "    model.setOutputCols(output_cols)\n",
    "    return model.transform(df)"
   ]
  },
  {
   "cell_type": "markdown",
   "metadata": {},
   "source": [
    "Here, after performing OneHotEncoder's ```fit()``` and ```transform()``` on our PySpark DataFrame, we end up with a new column as specified by the setOutputCols argument. \n",
    "\n",
    "Since one-hot encoded vectors typically have a large number of zeroes, PySpark uses the column type (sparse) vector for one-hot encoding. Using sparse vectors as encoding is helpful as inputs of PySpark's machine learning models such as decision trees (DecisionTreeClassifier) which I will use in the following sections.\n",
    "\n",
    "A sparse vector is defined by three values (in order):\n",
    "\n",
    "- size: the size of the vector (the number of categories minus one)\n",
    "\n",
    "- index: the index in the vector that holds value\n",
    "\n",
    "- value: the value at index"
   ]
  },
  {
   "cell_type": "code",
   "execution_count": 80,
   "metadata": {},
   "outputs": [],
   "source": [
    "X_train = one_hot_encode(X_train, categorical_features)\n",
    "X_val = one_hot_encode(X_val, categorical_features)"
   ]
  },
  {
   "cell_type": "markdown",
   "metadata": {},
   "source": [
    "**6.10 Drop columns not required**"
   ]
  },
  {
   "cell_type": "code",
   "execution_count": 81,
   "metadata": {},
   "outputs": [],
   "source": [
    "def drop_cols(df, cols):\n",
    "    \"\"\" Drops columns from a dataframe given a list of columns  \n",
    "    \"\"\"\n",
    "    return df.drop(*cols)\n",
    "    "
   ]
  },
  {
   "cell_type": "code",
   "execution_count": 82,
   "metadata": {},
   "outputs": [
    {
     "name": "stdout",
     "output_type": "stream",
     "text": [
      "Drop 55 columns\n"
     ]
    }
   ],
   "source": [
    "to_drop = ('basin', 'basin_indexed', 'region', 'region_indexed', 'region_code', 'public_meeting', 'public_meeting_indexed', 'scheme_management', 'scheme_management_indexed',\n",
    "           'scheme_name','permit', 'permit_indexed', 'extraction_type', 'extraction_type_group','extraction_type_class','extraction_type_class_indexed',\n",
    "           'management', 'management_group', 'management_group_indexed', 'payment', 'payment_type', 'payment_type_indexed', 'district_code',\n",
    "           'water_quality','quality_group', 'quality_group_indexed', 'quantity', 'quantity_indexed', 'quantity_group', 'quantity_group_indexed', 'source',\n",
    "           'source_type', 'source_class', 'source_class_indexed', 'waterpoint_type','waterpoint_type_group', 'waterpoint_type_group_indexed', 'amount_tsh', 'gps_height', 'num_private', 'construction_year', 'month_recorded', \n",
    "           'year_recorded', 'age_recorded', 'population', 'longitude', 'longitude_impute', 'latitude', 'date_recorded', 'subvillage','lga', 'ward', 'wpt_name', 'status_group', 'status_group_encoded')\n",
    "print(f\"Drop {len(to_drop)} columns\")\n",
    "X_train_final = drop_cols(X_train, to_drop)\n",
    "X_val_final = drop_cols(X_val, to_drop)"
   ]
  },
  {
   "cell_type": "markdown",
   "metadata": {},
   "source": [
    "**6.11 Rename status group to label**"
   ]
  },
  {
   "cell_type": "code",
   "execution_count": 83,
   "metadata": {},
   "outputs": [],
   "source": [
    "X_train_final = X_train_final.withColumnRenamed('status_group_indexed', 'label')\n",
    "X_val_final = X_val_final.withColumnRenamed('status_group_indexed', 'label')"
   ]
  },
  {
   "cell_type": "code",
   "execution_count": 84,
   "metadata": {
    "scrolled": true
   },
   "outputs": [
    {
     "name": "stdout",
     "output_type": "stream",
     "text": [
      "root\n",
      " |-- funder_bin: double (nullable = true)\n",
      " |-- installer_bin: double (nullable = true)\n",
      " |-- amount_tsh_Scaled: double (nullable = true)\n",
      " |-- gps_height_Scaled: double (nullable = true)\n",
      " |-- num_private_Scaled: double (nullable = true)\n",
      " |-- construction_year_Scaled: double (nullable = true)\n",
      " |-- month_recorded_Scaled: double (nullable = true)\n",
      " |-- year_recorded_Scaled: double (nullable = true)\n",
      " |-- age_recorded_Scaled: double (nullable = true)\n",
      " |-- population_Scaled: double (nullable = true)\n",
      " |-- longitude_impute_Scaled: double (nullable = true)\n",
      " |-- latitude_Scaled: double (nullable = true)\n",
      " |-- label: double (nullable = false)\n",
      " |-- source_class_encoded: vector (nullable = true)\n",
      " |-- quantity_encoded: vector (nullable = true)\n",
      " |-- quantity_group_encoded: vector (nullable = true)\n",
      " |-- permit_encoded: vector (nullable = true)\n",
      " |-- public_meeting_encoded: vector (nullable = true)\n",
      " |-- scheme_management_encoded: vector (nullable = true)\n",
      " |-- basin_encoded: vector (nullable = true)\n",
      " |-- waterpoint_type_group_encoded: vector (nullable = true)\n",
      " |-- quality_group_encoded: vector (nullable = true)\n",
      " |-- management_group_encoded: vector (nullable = true)\n",
      " |-- region_encoded: vector (nullable = true)\n",
      " |-- extraction_type_class_encoded: vector (nullable = true)\n",
      " |-- payment_type_encoded: vector (nullable = true)\n",
      "\n",
      "root\n",
      " |-- funder_bin: double (nullable = true)\n",
      " |-- installer_bin: double (nullable = true)\n",
      " |-- amount_tsh_Scaled: double (nullable = true)\n",
      " |-- gps_height_Scaled: double (nullable = true)\n",
      " |-- num_private_Scaled: double (nullable = true)\n",
      " |-- construction_year_Scaled: double (nullable = true)\n",
      " |-- month_recorded_Scaled: double (nullable = true)\n",
      " |-- year_recorded_Scaled: double (nullable = true)\n",
      " |-- age_recorded_Scaled: double (nullable = true)\n",
      " |-- population_Scaled: double (nullable = true)\n",
      " |-- longitude_impute_Scaled: double (nullable = true)\n",
      " |-- latitude_Scaled: double (nullable = true)\n",
      " |-- label: double (nullable = false)\n",
      " |-- source_class_encoded: vector (nullable = true)\n",
      " |-- quantity_encoded: vector (nullable = true)\n",
      " |-- quantity_group_encoded: vector (nullable = true)\n",
      " |-- permit_encoded: vector (nullable = true)\n",
      " |-- public_meeting_encoded: vector (nullable = true)\n",
      " |-- scheme_management_encoded: vector (nullable = true)\n",
      " |-- basin_encoded: vector (nullable = true)\n",
      " |-- waterpoint_type_group_encoded: vector (nullable = true)\n",
      " |-- quality_group_encoded: vector (nullable = true)\n",
      " |-- management_group_encoded: vector (nullable = true)\n",
      " |-- region_encoded: vector (nullable = true)\n",
      " |-- extraction_type_class_encoded: vector (nullable = true)\n",
      " |-- payment_type_encoded: vector (nullable = true)\n",
      "\n",
      "True\n",
      "root\n",
      " |-- funder_bin: double (nullable = true)\n",
      " |-- installer_bin: double (nullable = true)\n",
      " |-- amount_tsh_Scaled: double (nullable = true)\n",
      " |-- gps_height_Scaled: double (nullable = true)\n",
      " |-- num_private_Scaled: double (nullable = true)\n",
      " |-- construction_year_Scaled: double (nullable = true)\n",
      " |-- month_recorded_Scaled: double (nullable = true)\n",
      " |-- year_recorded_Scaled: double (nullable = true)\n",
      " |-- age_recorded_Scaled: double (nullable = true)\n",
      " |-- population_Scaled: double (nullable = true)\n",
      " |-- longitude_impute_Scaled: double (nullable = true)\n",
      " |-- latitude_Scaled: double (nullable = true)\n",
      " |-- label: double (nullable = false)\n",
      " |-- source_class_encoded: vector (nullable = true)\n",
      " |-- quantity_encoded: vector (nullable = true)\n",
      " |-- quantity_group_encoded: vector (nullable = true)\n",
      " |-- permit_encoded: vector (nullable = true)\n",
      " |-- public_meeting_encoded: vector (nullable = true)\n",
      " |-- scheme_management_encoded: vector (nullable = true)\n",
      " |-- basin_encoded: vector (nullable = true)\n",
      " |-- waterpoint_type_group_encoded: vector (nullable = true)\n",
      " |-- quality_group_encoded: vector (nullable = true)\n",
      " |-- management_group_encoded: vector (nullable = true)\n",
      " |-- region_encoded: vector (nullable = true)\n",
      " |-- extraction_type_class_encoded: vector (nullable = true)\n",
      " |-- payment_type_encoded: vector (nullable = true)\n",
      "\n"
     ]
    }
   ],
   "source": [
    "print(X_val_final.printSchema()==X_train_final.printSchema())\n",
    "X_train_final.printSchema()"
   ]
  },
  {
   "cell_type": "code",
   "execution_count": 85,
   "metadata": {
    "scrolled": true
   },
   "outputs": [
    {
     "data": {
      "text/plain": [
       "['funder_bin',\n",
       " 'installer_bin',\n",
       " 'amount_tsh_Scaled',\n",
       " 'gps_height_Scaled',\n",
       " 'num_private_Scaled',\n",
       " 'construction_year_Scaled',\n",
       " 'month_recorded_Scaled',\n",
       " 'year_recorded_Scaled',\n",
       " 'age_recorded_Scaled',\n",
       " 'population_Scaled',\n",
       " 'longitude_impute_Scaled',\n",
       " 'latitude_Scaled',\n",
       " 'source_class_encoded',\n",
       " 'quantity_encoded',\n",
       " 'quantity_group_encoded',\n",
       " 'permit_encoded',\n",
       " 'public_meeting_encoded',\n",
       " 'scheme_management_encoded',\n",
       " 'basin_encoded',\n",
       " 'waterpoint_type_group_encoded',\n",
       " 'quality_group_encoded',\n",
       " 'management_group_encoded',\n",
       " 'region_encoded',\n",
       " 'extraction_type_class_encoded',\n",
       " 'payment_type_encoded']"
      ]
     },
     "execution_count": 85,
     "metadata": {},
     "output_type": "execute_result"
    }
   ],
   "source": [
    "features = X_train_final.columns\n",
    "features.remove('label')\n",
    "features"
   ]
  },
  {
   "cell_type": "markdown",
   "metadata": {},
   "source": [
    "**6.12 Assemble the final feature vector to be fed into Random Forest Classifier**"
   ]
  },
  {
   "cell_type": "code",
   "execution_count": 90,
   "metadata": {},
   "outputs": [],
   "source": [
    "assembler = VectorAssembler(\n",
    "    inputCols=features,\n",
    "    outputCol='features')\n",
    "X_train_final = assembler.transform(X_train_final)\n",
    "X_val_final = assembler.transform(X_val_final)"
   ]
  },
  {
   "cell_type": "code",
   "execution_count": 87,
   "metadata": {
    "scrolled": true
   },
   "outputs": [
    {
     "name": "stdout",
     "output_type": "stream",
     "text": [
      "+--------------------+\n",
      "|            features|\n",
      "+--------------------+\n",
      "|(105,[3,5,6,7,8,9...|\n",
      "|(105,[0,1,2,3,5,6...|\n",
      "|(105,[2,3,5,7,8,9...|\n",
      "|(105,[2,3,5,6,7,8...|\n",
      "|(105,[3,5,6,7,8,9...|\n",
      "|(105,[2,3,5,6,7,8...|\n",
      "|(105,[0,1,3,5,6,7...|\n",
      "|(105,[3,5,6,7,8,1...|\n",
      "|(105,[2,3,5,7,8,9...|\n",
      "|(105,[0,1,2,3,5,6...|\n",
      "|(105,[0,1,3,6,7,8...|\n",
      "|(105,[3,5,7,8,9,1...|\n",
      "|(105,[3,5,6,7,8,1...|\n",
      "|(105,[3,5,6,7,8,9...|\n",
      "|(105,[3,5,6,7,8,9...|\n",
      "|(105,[3,5,6,7,8,1...|\n",
      "|(105,[0,3,6,7,8,1...|\n",
      "|(105,[3,5,7,8,9,1...|\n",
      "|(105,[3,5,6,7,8,1...|\n",
      "|(105,[2,3,5,6,7,8...|\n",
      "+--------------------+\n",
      "only showing top 20 rows\n",
      "\n"
     ]
    }
   ],
   "source": [
    "X_val_final.select('features').show()"
   ]
  },
  {
   "cell_type": "markdown",
   "metadata": {},
   "source": [
    "### Model1: RandomForest Classifier\n",
    "\n",
    "In the following section, I train a Random Forest Classifier with K Fold Cross validation as the evaluation protocol.\n",
    "\n",
    "The ```CrossValidator``` implements K-fold cross validation and performs model selection by splitting the dataset into a set of non-overlapping randomly partitioned folds which are used as separate training and test datasets. For instance, below I used k=5 folds, so K-fold cross validation will generate 5 (training, test) dataset pairs, each of which uses 4/5 of the data for training and 1/5 for testing. Each fold is used as the test set exactly once."
   ]
  },
  {
   "cell_type": "code",
   "execution_count": 106,
   "metadata": {},
   "outputs": [
    {
     "name": "stdout",
     "output_type": "stream",
     "text": [
      "CrossValidatorModel_c7beebbc7d0a\n"
     ]
    }
   ],
   "source": [
    "# Create a Random Forest Classification model\n",
    "rf = RandomForestClassifier(labelCol='label', featuresCol='features')\n",
    "# Instantiate RF evaluator\n",
    "rfevaluator = MulticlassClassificationEvaluator()\n",
    "\n",
    "# Create ParamGrid for Cross validation\n",
    "rfparamGrid = (ParamGridBuilder() \\\n",
    "               .addGrid(rf.maxDepth, [5, 7, 10, 13, 25]) \\\n",
    "               .addGrid(rf.maxBins, [3, 5, 7, 10, 15]) \\\n",
    "               .addGrid(rf.numTrees, [5, 10, 15, 20, 25]) \\\n",
    "               .build()            \n",
    "            )\n",
    "# Create 5-fold CrossValidator\n",
    "rfcv = CrossValidator(estimator = rf,\n",
    "                      estimatorParamMaps = rfparamGrid,\n",
    "                      evaluator = rfevaluator,\n",
    "                      numFolds = 5)\n",
    "\n",
    "# Run cross validation\n",
    "rfcvModel = rfcv.fit(X_train_final)\n",
    "print(rfcvModel)"
   ]
  },
  {
   "cell_type": "markdown",
   "metadata": {},
   "source": [
    "The Random Forest model used here is an ensemble learning method that constructs multiple decision trees and combines their results to make predictions. Each decision tree in the ensemble is built using a subset of the training data and a subset of the features. Therefore, the training of each decision tree can be done independently, which makes it possible to parallelize the training process.\n",
    "\n",
    "The parallelization of Random Forest is supported by many machine learning libraries, including the Apache Spark MLlib used above.\n",
    "\n",
    "Parallelization of Random Forest can be done in two ways:\n",
    "\n",
    "1. Training multiple trees in parallel: In this approach, multiple decision trees are trained independently on different subsets of the training data. This can be done by distributing the training data across multiple processors or nodes in a cluster. Each processor or node trains a subset of the decision trees, and the results are combined at the end.\n",
    "\n",
    "2. Training multiple nodes of a single tree in parallel: In this approach, a decision tree is split into multiple nodes, and each node is trained independently on a subset of the features. This can be done by distributing the computation across multiple processors or nodes in a cluster. Each processor or node trains a subset of the nodes in the tree, and the results are combined at the end."
   ]
  },
  {
   "cell_type": "markdown",
   "metadata": {},
   "source": [
    "##### Evaluation"
   ]
  },
  {
   "cell_type": "code",
   "execution_count": 103,
   "metadata": {},
   "outputs": [],
   "source": [
    "model_path = \"rfc_model\"\n",
    "rfcvModel.save(model_path)"
   ]
  },
  {
   "cell_type": "code",
   "execution_count": 107,
   "metadata": {},
   "outputs": [
    {
     "data": {
      "text/plain": [
       "[0.7481129622759886,\n",
       " 0.7477079857390805,\n",
       " 0.7530635505140018,\n",
       " 0.7510349550992708,\n",
       " 0.7526257863550236,\n",
       " 0.7491893888782312,\n",
       " 0.7507984625482466,\n",
       " 0.7556256653887812,\n",
       " 0.7542023892727888,\n",
       " 0.7517016188412273,\n",
       " 0.7470016329731093,\n",
       " 0.7521627840674014,\n",
       " 0.7555555066447326,\n",
       " 0.7543334950195684,\n",
       " 0.7526195249514871,\n",
       " 0.745247479265376,\n",
       " 0.7514443188399006,\n",
       " 0.756205691136466,\n",
       " 0.7513222833788884,\n",
       " 0.7517753497220971,\n",
       " 0.7469369775649277,\n",
       " 0.7509980243046672,\n",
       " 0.7554759303271614,\n",
       " 0.7512888607708602,\n",
       " 0.7517346620838046,\n",
       " 0.7638362014281574,\n",
       " 0.7663924564242872,\n",
       " 0.7650265968046663,\n",
       " 0.7639393950969697,\n",
       " 0.7648197511188962,\n",
       " 0.7684939115372107,\n",
       " 0.7695552609633349,\n",
       " 0.7687701505692135,\n",
       " 0.7663621120684581,\n",
       " 0.7677351877503424,\n",
       " 0.7699535879121752,\n",
       " 0.7702091191602487,\n",
       " 0.7705652707541504,\n",
       " 0.7667018980653854,\n",
       " 0.768613511505319,\n",
       " 0.7650892719161397,\n",
       " 0.7710738476000392,\n",
       " 0.7688707524470606,\n",
       " 0.7679862324671032,\n",
       " 0.7704182466637141,\n",
       " 0.7717873785778093,\n",
       " 0.7714447608097974,\n",
       " 0.7703872040255916,\n",
       " 0.7661081081281799,\n",
       " 0.7694305805284378,\n",
       " 0.7857803559861702,\n",
       " 0.7929351492196866,\n",
       " 0.7874238898752599,\n",
       " 0.7865251616178907,\n",
       " 0.789346684373643,\n",
       " 0.788987176952572,\n",
       " 0.7935915940875244,\n",
       " 0.7916360005377958,\n",
       " 0.7908001959939395,\n",
       " 0.7921785444352047,\n",
       " 0.7890922011226558,\n",
       " 0.7932685264324912,\n",
       " 0.7937199227339164,\n",
       " 0.7926621269493067,\n",
       " 0.7937089399500681,\n",
       " 0.7913345868208045,\n",
       " 0.7937991733505552,\n",
       " 0.7949261613527265,\n",
       " 0.7912432967212325,\n",
       " 0.7951762330289829,\n",
       " 0.7950424811031861,\n",
       " 0.7946773221047587,\n",
       " 0.796087164043362,\n",
       " 0.7941189254423782,\n",
       " 0.794070388489432,\n",
       " 0.8035705573146735,\n",
       " 0.8082635291308031,\n",
       " 0.8058679891958873,\n",
       " 0.8052026281161678,\n",
       " 0.807317763223204,\n",
       " 0.803208758757521,\n",
       " 0.8115797121298695,\n",
       " 0.8108388922655174,\n",
       " 0.8094285556917,\n",
       " 0.8116930334430505,\n",
       " 0.8055179896488471,\n",
       " 0.8126234526050442,\n",
       " 0.8102125659261199,\n",
       " 0.8119185626362706,\n",
       " 0.8137009209923122,\n",
       " 0.8087205355784008,\n",
       " 0.8114970334698514,\n",
       " 0.8134500548837371,\n",
       " 0.8102120426403552,\n",
       " 0.8124819279922455,\n",
       " 0.8073257618823133,\n",
       " 0.811292171379643,\n",
       " 0.8143196002692135,\n",
       " 0.8120305361943512,\n",
       " 0.8125267730997333,\n",
       " 0.823233826077533,\n",
       " 0.825909334807155,\n",
       " 0.8263313440419551,\n",
       " 0.8288474451458373,\n",
       " 0.8289500268515364,\n",
       " 0.821485807841906,\n",
       " 0.8262262405333631,\n",
       " 0.8302138140785358,\n",
       " 0.8304293269832719,\n",
       " 0.8303057302412297,\n",
       " 0.8214474913246586,\n",
       " 0.8294698472619912,\n",
       " 0.8283531314656831,\n",
       " 0.83021720574501,\n",
       " 0.8326241497922687,\n",
       " 0.8231167969564769,\n",
       " 0.8282434709845979,\n",
       " 0.8310599866592954,\n",
       " 0.8324936430506138,\n",
       " 0.8321560404673584,\n",
       " 0.8261420244050344,\n",
       " 0.8297136617333635,\n",
       " 0.8344071118420557,\n",
       " 0.8338761170803064,\n",
       " 0.8332100598450983]"
      ]
     },
     "execution_count": 107,
     "metadata": {},
     "output_type": "execute_result"
    }
   ],
   "source": [
    "rfcvModel.avgMetrics"
   ]
  },
  {
   "cell_type": "code",
   "execution_count": 112,
   "metadata": {
    "scrolled": false
   },
   "outputs": [
    {
     "name": "stdout",
     "output_type": "stream",
     "text": [
      "Accuracy: 0.6363157356341816\n",
      "Weighted Precision: 0.7242897066025473\n",
      "Weighted Recall: 0.6584068216602288\n",
      "Weighted True Positive Rate: 0.6584068216602288\n",
      "DenseMatrix([[6718., 3027.],\n",
      "             [1352., 2316.]])\n"
     ]
    }
   ],
   "source": [
    "# Use test set here so we can measure the accuracy of our model on new data\n",
    "rfpredictions = rfcvModel.transform(X_val_final)\n",
    "\n",
    "#cvModel uses teh best model found from teh Cross Validation\n",
    "# Evaluate best model\n",
    "print(f\"Accuracy: {rfevaluator.evaluate(rfpredictions)}\")\n",
    "print(f\"Weighted Precision: {MulticlassMetrics(rfpredictions['label', 'prediction'].rdd).weightedPrecision}\")\n",
    "print(f\"Weighted Recall: {MulticlassMetrics(rfpredictions['label', 'prediction'].rdd).weightedRecall}\")\n",
    "print(f\"Weighted True Positive Rate: {MulticlassMetrics(rfpredictions['label', 'prediction'].rdd).weightedTruePositiveRate}\")\n",
    "print(MulticlassMetrics(rfpredictions['label', 'prediction'].rdd).confusionMatrix())"
   ]
  },
  {
   "cell_type": "code",
   "execution_count": 681,
   "metadata": {},
   "outputs": [
    {
     "data": {
      "text/plain": [
       "[DecisionTreeClassificationModel: uid=dtc_d20e89721f6d, depth=5, numNodes=37, numClasses=3, numFeatures=105,\n",
       " DecisionTreeClassificationModel: uid=dtc_4d4c4670b85b, depth=5, numNodes=35, numClasses=3, numFeatures=105,\n",
       " DecisionTreeClassificationModel: uid=dtc_3727c5d8a243, depth=5, numNodes=29, numClasses=3, numFeatures=105,\n",
       " DecisionTreeClassificationModel: uid=dtc_0bdfba413f39, depth=5, numNodes=41, numClasses=3, numFeatures=105,\n",
       " DecisionTreeClassificationModel: uid=dtc_970541db5cf5, depth=5, numNodes=47, numClasses=3, numFeatures=105,\n",
       " DecisionTreeClassificationModel: uid=dtc_e62dcc1c69b2, depth=5, numNodes=41, numClasses=3, numFeatures=105,\n",
       " DecisionTreeClassificationModel: uid=dtc_db9a55482fd4, depth=5, numNodes=41, numClasses=3, numFeatures=105,\n",
       " DecisionTreeClassificationModel: uid=dtc_3b413d318bf9, depth=5, numNodes=41, numClasses=3, numFeatures=105,\n",
       " DecisionTreeClassificationModel: uid=dtc_fa3a2b4a20b5, depth=5, numNodes=39, numClasses=3, numFeatures=105,\n",
       " DecisionTreeClassificationModel: uid=dtc_9115707caa4f, depth=5, numNodes=33, numClasses=3, numFeatures=105]"
      ]
     },
     "execution_count": 681,
     "metadata": {},
     "output_type": "execute_result"
    }
   ],
   "source": [
    "rfmodel.trees"
   ]
  },
  {
   "cell_type": "markdown",
   "metadata": {},
   "source": [
    "### Model2: Gradient Boosting Classifier\n",
    "\n",
    "I would have liked to try the Gradient Boosting Classifier in this experiment however the current implementation in PySpark MLlib [only supports Binary classification](https://spark.apache.org/docs/latest/api/python/reference/api/pyspark.ml.classification.GBTClassifier.html#pyspark.ml.classification.GBTClassifier)."
   ]
  },
  {
   "cell_type": "code",
   "execution_count": 100,
   "metadata": {
    "collapsed": true
   },
   "outputs": [
    {
     "ename": "Py4JJavaError",
     "evalue": "An error occurred while calling o6620.fit.\n: java.util.NoSuchElementException: Failed to find a default value for layers\n\tat org.apache.spark.ml.param.Params.$anonfun$getOrDefault$2(params.scala:756)\n\tat scala.Option.getOrElse(Option.scala:189)\n\tat org.apache.spark.ml.param.Params.getOrDefault(params.scala:756)\n\tat org.apache.spark.ml.param.Params.getOrDefault$(params.scala:753)\n\tat org.apache.spark.ml.PipelineStage.getOrDefault(Pipeline.scala:41)\n\tat org.apache.spark.ml.param.Params.$(params.scala:762)\n\tat org.apache.spark.ml.param.Params.$$(params.scala:762)\n\tat org.apache.spark.ml.PipelineStage.$(Pipeline.scala:41)\n\tat org.apache.spark.ml.classification.MultilayerPerceptronClassifier.$anonfun$train$1(MultilayerPerceptronClassifier.scala:192)\n\tat org.apache.spark.ml.util.Instrumentation$.$anonfun$instrumented$1(Instrumentation.scala:191)\n\tat scala.util.Try$.apply(Try.scala:213)\n\tat org.apache.spark.ml.util.Instrumentation$.instrumented(Instrumentation.scala:191)\n\tat org.apache.spark.ml.classification.MultilayerPerceptronClassifier.train(MultilayerPerceptronClassifier.scala:186)\n\tat org.apache.spark.ml.classification.MultilayerPerceptronClassifier.train(MultilayerPerceptronClassifier.scala:95)\n\tat org.apache.spark.ml.Predictor.fit(Predictor.scala:150)\n\tat jdk.internal.reflect.GeneratedMethodAccessor165.invoke(Unknown Source)\n\tat java.base/jdk.internal.reflect.DelegatingMethodAccessorImpl.invoke(DelegatingMethodAccessorImpl.java:43)\n\tat java.base/java.lang.reflect.Method.invoke(Method.java:566)\n\tat py4j.reflection.MethodInvoker.invoke(MethodInvoker.java:244)\n\tat py4j.reflection.ReflectionEngine.invoke(ReflectionEngine.java:357)\n\tat py4j.Gateway.invoke(Gateway.java:282)\n\tat py4j.commands.AbstractCommand.invokeMethod(AbstractCommand.java:132)\n\tat py4j.commands.CallCommand.execute(CallCommand.java:79)\n\tat py4j.GatewayConnection.run(GatewayConnection.java:238)\n\tat java.base/java.lang.Thread.run(Thread.java:829)\n",
     "output_type": "error",
     "traceback": [
      "\u001b[0;31m---------------------------------------------------------------------------\u001b[0m",
      "\u001b[0;31mPy4JJavaError\u001b[0m                             Traceback (most recent call last)",
      "\u001b[0;32m<ipython-input-100-82ad0559b6ff>\u001b[0m in \u001b[0;36m<module>\u001b[0;34m\u001b[0m\n\u001b[1;32m     17\u001b[0m \u001b[0;34m\u001b[0m\u001b[0m\n\u001b[1;32m     18\u001b[0m \u001b[0;31m# Run cross validation\u001b[0m\u001b[0;34m\u001b[0m\u001b[0;34m\u001b[0m\u001b[0;34m\u001b[0m\u001b[0m\n\u001b[0;32m---> 19\u001b[0;31m \u001b[0mmlp_cv_Model\u001b[0m \u001b[0;34m=\u001b[0m \u001b[0mmlp_cv\u001b[0m\u001b[0;34m.\u001b[0m\u001b[0mfit\u001b[0m\u001b[0;34m(\u001b[0m\u001b[0mX_train_final\u001b[0m\u001b[0;34m)\u001b[0m\u001b[0;34m\u001b[0m\u001b[0;34m\u001b[0m\u001b[0m\n\u001b[0m\u001b[1;32m     20\u001b[0m \u001b[0mprint\u001b[0m\u001b[0;34m(\u001b[0m\u001b[0mmlp_cv_Model\u001b[0m\u001b[0;34m)\u001b[0m\u001b[0;34m\u001b[0m\u001b[0;34m\u001b[0m\u001b[0m\n",
      "\u001b[0;32m/opt/spark/current/python/lib/pyspark.zip/pyspark/ml/base.py\u001b[0m in \u001b[0;36mfit\u001b[0;34m(self, dataset, params)\u001b[0m\n\u001b[1;32m    127\u001b[0m                 \u001b[0;32mreturn\u001b[0m \u001b[0mself\u001b[0m\u001b[0;34m.\u001b[0m\u001b[0mcopy\u001b[0m\u001b[0;34m(\u001b[0m\u001b[0mparams\u001b[0m\u001b[0;34m)\u001b[0m\u001b[0;34m.\u001b[0m\u001b[0m_fit\u001b[0m\u001b[0;34m(\u001b[0m\u001b[0mdataset\u001b[0m\u001b[0;34m)\u001b[0m\u001b[0;34m\u001b[0m\u001b[0;34m\u001b[0m\u001b[0m\n\u001b[1;32m    128\u001b[0m             \u001b[0;32melse\u001b[0m\u001b[0;34m:\u001b[0m\u001b[0;34m\u001b[0m\u001b[0;34m\u001b[0m\u001b[0m\n\u001b[0;32m--> 129\u001b[0;31m                 \u001b[0;32mreturn\u001b[0m \u001b[0mself\u001b[0m\u001b[0;34m.\u001b[0m\u001b[0m_fit\u001b[0m\u001b[0;34m(\u001b[0m\u001b[0mdataset\u001b[0m\u001b[0;34m)\u001b[0m\u001b[0;34m\u001b[0m\u001b[0;34m\u001b[0m\u001b[0m\n\u001b[0m\u001b[1;32m    130\u001b[0m         \u001b[0;32melse\u001b[0m\u001b[0;34m:\u001b[0m\u001b[0;34m\u001b[0m\u001b[0;34m\u001b[0m\u001b[0m\n\u001b[1;32m    131\u001b[0m             raise ValueError(\"Params must be either a param map or a list/tuple of param maps, \"\n",
      "\u001b[0;32m/opt/spark/current/python/lib/pyspark.zip/pyspark/ml/tuning.py\u001b[0m in \u001b[0;36m_fit\u001b[0;34m(self, dataset)\u001b[0m\n\u001b[1;32m    356\u001b[0m \u001b[0;34m\u001b[0m\u001b[0m\n\u001b[1;32m    357\u001b[0m             \u001b[0mtasks\u001b[0m \u001b[0;34m=\u001b[0m \u001b[0m_parallelFitTasks\u001b[0m\u001b[0;34m(\u001b[0m\u001b[0mest\u001b[0m\u001b[0;34m,\u001b[0m \u001b[0mtrain\u001b[0m\u001b[0;34m,\u001b[0m \u001b[0meva\u001b[0m\u001b[0;34m,\u001b[0m \u001b[0mvalidation\u001b[0m\u001b[0;34m,\u001b[0m \u001b[0mepm\u001b[0m\u001b[0;34m,\u001b[0m \u001b[0mcollectSubModelsParam\u001b[0m\u001b[0;34m)\u001b[0m\u001b[0;34m\u001b[0m\u001b[0;34m\u001b[0m\u001b[0m\n\u001b[0;32m--> 358\u001b[0;31m             \u001b[0;32mfor\u001b[0m \u001b[0mj\u001b[0m\u001b[0;34m,\u001b[0m \u001b[0mmetric\u001b[0m\u001b[0;34m,\u001b[0m \u001b[0msubModel\u001b[0m \u001b[0;32min\u001b[0m \u001b[0mpool\u001b[0m\u001b[0;34m.\u001b[0m\u001b[0mimap_unordered\u001b[0m\u001b[0;34m(\u001b[0m\u001b[0;32mlambda\u001b[0m \u001b[0mf\u001b[0m\u001b[0;34m:\u001b[0m \u001b[0mf\u001b[0m\u001b[0;34m(\u001b[0m\u001b[0;34m)\u001b[0m\u001b[0;34m,\u001b[0m \u001b[0mtasks\u001b[0m\u001b[0;34m)\u001b[0m\u001b[0;34m:\u001b[0m\u001b[0;34m\u001b[0m\u001b[0;34m\u001b[0m\u001b[0m\n\u001b[0m\u001b[1;32m    359\u001b[0m                 \u001b[0mmetrics\u001b[0m\u001b[0;34m[\u001b[0m\u001b[0mj\u001b[0m\u001b[0;34m]\u001b[0m \u001b[0;34m+=\u001b[0m \u001b[0;34m(\u001b[0m\u001b[0mmetric\u001b[0m \u001b[0;34m/\u001b[0m \u001b[0mnFolds\u001b[0m\u001b[0;34m)\u001b[0m\u001b[0;34m\u001b[0m\u001b[0;34m\u001b[0m\u001b[0m\n\u001b[1;32m    360\u001b[0m                 \u001b[0;32mif\u001b[0m \u001b[0mcollectSubModelsParam\u001b[0m\u001b[0;34m:\u001b[0m\u001b[0;34m\u001b[0m\u001b[0;34m\u001b[0m\u001b[0m\n",
      "\u001b[0;32m/opt/conda/envs/python/lib/python3.8/multiprocessing/pool.py\u001b[0m in \u001b[0;36mnext\u001b[0;34m(self, timeout)\u001b[0m\n\u001b[1;32m    866\u001b[0m         \u001b[0;32mif\u001b[0m \u001b[0msuccess\u001b[0m\u001b[0;34m:\u001b[0m\u001b[0;34m\u001b[0m\u001b[0;34m\u001b[0m\u001b[0m\n\u001b[1;32m    867\u001b[0m             \u001b[0;32mreturn\u001b[0m \u001b[0mvalue\u001b[0m\u001b[0;34m\u001b[0m\u001b[0;34m\u001b[0m\u001b[0m\n\u001b[0;32m--> 868\u001b[0;31m         \u001b[0;32mraise\u001b[0m \u001b[0mvalue\u001b[0m\u001b[0;34m\u001b[0m\u001b[0;34m\u001b[0m\u001b[0m\n\u001b[0m\u001b[1;32m    869\u001b[0m \u001b[0;34m\u001b[0m\u001b[0m\n\u001b[1;32m    870\u001b[0m     \u001b[0m__next__\u001b[0m \u001b[0;34m=\u001b[0m \u001b[0mnext\u001b[0m                    \u001b[0;31m# XXX\u001b[0m\u001b[0;34m\u001b[0m\u001b[0;34m\u001b[0m\u001b[0m\n",
      "\u001b[0;32m/opt/conda/envs/python/lib/python3.8/multiprocessing/pool.py\u001b[0m in \u001b[0;36mworker\u001b[0;34m(inqueue, outqueue, initializer, initargs, maxtasks, wrap_exception)\u001b[0m\n\u001b[1;32m    123\u001b[0m         \u001b[0mjob\u001b[0m\u001b[0;34m,\u001b[0m \u001b[0mi\u001b[0m\u001b[0;34m,\u001b[0m \u001b[0mfunc\u001b[0m\u001b[0;34m,\u001b[0m \u001b[0margs\u001b[0m\u001b[0;34m,\u001b[0m \u001b[0mkwds\u001b[0m \u001b[0;34m=\u001b[0m \u001b[0mtask\u001b[0m\u001b[0;34m\u001b[0m\u001b[0;34m\u001b[0m\u001b[0m\n\u001b[1;32m    124\u001b[0m         \u001b[0;32mtry\u001b[0m\u001b[0;34m:\u001b[0m\u001b[0;34m\u001b[0m\u001b[0;34m\u001b[0m\u001b[0m\n\u001b[0;32m--> 125\u001b[0;31m             \u001b[0mresult\u001b[0m \u001b[0;34m=\u001b[0m \u001b[0;34m(\u001b[0m\u001b[0;32mTrue\u001b[0m\u001b[0;34m,\u001b[0m \u001b[0mfunc\u001b[0m\u001b[0;34m(\u001b[0m\u001b[0;34m*\u001b[0m\u001b[0margs\u001b[0m\u001b[0;34m,\u001b[0m \u001b[0;34m**\u001b[0m\u001b[0mkwds\u001b[0m\u001b[0;34m)\u001b[0m\u001b[0;34m)\u001b[0m\u001b[0;34m\u001b[0m\u001b[0;34m\u001b[0m\u001b[0m\n\u001b[0m\u001b[1;32m    126\u001b[0m         \u001b[0;32mexcept\u001b[0m \u001b[0mException\u001b[0m \u001b[0;32mas\u001b[0m \u001b[0me\u001b[0m\u001b[0;34m:\u001b[0m\u001b[0;34m\u001b[0m\u001b[0;34m\u001b[0m\u001b[0m\n\u001b[1;32m    127\u001b[0m             \u001b[0;32mif\u001b[0m \u001b[0mwrap_exception\u001b[0m \u001b[0;32mand\u001b[0m \u001b[0mfunc\u001b[0m \u001b[0;32mis\u001b[0m \u001b[0;32mnot\u001b[0m \u001b[0m_helper_reraises_exception\u001b[0m\u001b[0;34m:\u001b[0m\u001b[0;34m\u001b[0m\u001b[0;34m\u001b[0m\u001b[0m\n",
      "\u001b[0;32m/opt/spark/current/python/lib/pyspark.zip/pyspark/ml/tuning.py\u001b[0m in \u001b[0;36m<lambda>\u001b[0;34m(f)\u001b[0m\n\u001b[1;32m    356\u001b[0m \u001b[0;34m\u001b[0m\u001b[0m\n\u001b[1;32m    357\u001b[0m             \u001b[0mtasks\u001b[0m \u001b[0;34m=\u001b[0m \u001b[0m_parallelFitTasks\u001b[0m\u001b[0;34m(\u001b[0m\u001b[0mest\u001b[0m\u001b[0;34m,\u001b[0m \u001b[0mtrain\u001b[0m\u001b[0;34m,\u001b[0m \u001b[0meva\u001b[0m\u001b[0;34m,\u001b[0m \u001b[0mvalidation\u001b[0m\u001b[0;34m,\u001b[0m \u001b[0mepm\u001b[0m\u001b[0;34m,\u001b[0m \u001b[0mcollectSubModelsParam\u001b[0m\u001b[0;34m)\u001b[0m\u001b[0;34m\u001b[0m\u001b[0;34m\u001b[0m\u001b[0m\n\u001b[0;32m--> 358\u001b[0;31m             \u001b[0;32mfor\u001b[0m \u001b[0mj\u001b[0m\u001b[0;34m,\u001b[0m \u001b[0mmetric\u001b[0m\u001b[0;34m,\u001b[0m \u001b[0msubModel\u001b[0m \u001b[0;32min\u001b[0m \u001b[0mpool\u001b[0m\u001b[0;34m.\u001b[0m\u001b[0mimap_unordered\u001b[0m\u001b[0;34m(\u001b[0m\u001b[0;32mlambda\u001b[0m \u001b[0mf\u001b[0m\u001b[0;34m:\u001b[0m \u001b[0mf\u001b[0m\u001b[0;34m(\u001b[0m\u001b[0;34m)\u001b[0m\u001b[0;34m,\u001b[0m \u001b[0mtasks\u001b[0m\u001b[0;34m)\u001b[0m\u001b[0;34m:\u001b[0m\u001b[0;34m\u001b[0m\u001b[0;34m\u001b[0m\u001b[0m\n\u001b[0m\u001b[1;32m    359\u001b[0m                 \u001b[0mmetrics\u001b[0m\u001b[0;34m[\u001b[0m\u001b[0mj\u001b[0m\u001b[0;34m]\u001b[0m \u001b[0;34m+=\u001b[0m \u001b[0;34m(\u001b[0m\u001b[0mmetric\u001b[0m \u001b[0;34m/\u001b[0m \u001b[0mnFolds\u001b[0m\u001b[0;34m)\u001b[0m\u001b[0;34m\u001b[0m\u001b[0;34m\u001b[0m\u001b[0m\n\u001b[1;32m    360\u001b[0m                 \u001b[0;32mif\u001b[0m \u001b[0mcollectSubModelsParam\u001b[0m\u001b[0;34m:\u001b[0m\u001b[0;34m\u001b[0m\u001b[0;34m\u001b[0m\u001b[0m\n",
      "\u001b[0;32m/opt/spark/current/python/lib/pyspark.zip/pyspark/ml/tuning.py\u001b[0m in \u001b[0;36msingleTask\u001b[0;34m()\u001b[0m\n\u001b[1;32m     50\u001b[0m \u001b[0;34m\u001b[0m\u001b[0m\n\u001b[1;32m     51\u001b[0m     \u001b[0;32mdef\u001b[0m \u001b[0msingleTask\u001b[0m\u001b[0;34m(\u001b[0m\u001b[0;34m)\u001b[0m\u001b[0;34m:\u001b[0m\u001b[0;34m\u001b[0m\u001b[0;34m\u001b[0m\u001b[0m\n\u001b[0;32m---> 52\u001b[0;31m         \u001b[0mindex\u001b[0m\u001b[0;34m,\u001b[0m \u001b[0mmodel\u001b[0m \u001b[0;34m=\u001b[0m \u001b[0mnext\u001b[0m\u001b[0;34m(\u001b[0m\u001b[0mmodelIter\u001b[0m\u001b[0;34m)\u001b[0m\u001b[0;34m\u001b[0m\u001b[0;34m\u001b[0m\u001b[0m\n\u001b[0m\u001b[1;32m     53\u001b[0m         \u001b[0mmetric\u001b[0m \u001b[0;34m=\u001b[0m \u001b[0meva\u001b[0m\u001b[0;34m.\u001b[0m\u001b[0mevaluate\u001b[0m\u001b[0;34m(\u001b[0m\u001b[0mmodel\u001b[0m\u001b[0;34m.\u001b[0m\u001b[0mtransform\u001b[0m\u001b[0;34m(\u001b[0m\u001b[0mvalidation\u001b[0m\u001b[0;34m,\u001b[0m \u001b[0mepm\u001b[0m\u001b[0;34m[\u001b[0m\u001b[0mindex\u001b[0m\u001b[0;34m]\u001b[0m\u001b[0;34m)\u001b[0m\u001b[0;34m)\u001b[0m\u001b[0;34m\u001b[0m\u001b[0;34m\u001b[0m\u001b[0m\n\u001b[1;32m     54\u001b[0m         \u001b[0;32mreturn\u001b[0m \u001b[0mindex\u001b[0m\u001b[0;34m,\u001b[0m \u001b[0mmetric\u001b[0m\u001b[0;34m,\u001b[0m \u001b[0mmodel\u001b[0m \u001b[0;32mif\u001b[0m \u001b[0mcollectSubModel\u001b[0m \u001b[0;32melse\u001b[0m \u001b[0;32mNone\u001b[0m\u001b[0;34m\u001b[0m\u001b[0;34m\u001b[0m\u001b[0m\n",
      "\u001b[0;32m/opt/spark/current/python/lib/pyspark.zip/pyspark/ml/base.py\u001b[0m in \u001b[0;36m__next__\u001b[0;34m(self)\u001b[0m\n\u001b[1;32m     60\u001b[0m                 \u001b[0;32mraise\u001b[0m \u001b[0mStopIteration\u001b[0m\u001b[0;34m(\u001b[0m\u001b[0;34m\"No models remaining.\"\u001b[0m\u001b[0;34m)\u001b[0m\u001b[0;34m\u001b[0m\u001b[0;34m\u001b[0m\u001b[0m\n\u001b[1;32m     61\u001b[0m             \u001b[0mself\u001b[0m\u001b[0;34m.\u001b[0m\u001b[0mcounter\u001b[0m \u001b[0;34m+=\u001b[0m \u001b[0;36m1\u001b[0m\u001b[0;34m\u001b[0m\u001b[0;34m\u001b[0m\u001b[0m\n\u001b[0;32m---> 62\u001b[0;31m         \u001b[0;32mreturn\u001b[0m \u001b[0mindex\u001b[0m\u001b[0;34m,\u001b[0m \u001b[0mself\u001b[0m\u001b[0;34m.\u001b[0m\u001b[0mfitSingleModel\u001b[0m\u001b[0;34m(\u001b[0m\u001b[0mindex\u001b[0m\u001b[0;34m)\u001b[0m\u001b[0;34m\u001b[0m\u001b[0;34m\u001b[0m\u001b[0m\n\u001b[0m\u001b[1;32m     63\u001b[0m \u001b[0;34m\u001b[0m\u001b[0m\n\u001b[1;32m     64\u001b[0m     \u001b[0;32mdef\u001b[0m \u001b[0mnext\u001b[0m\u001b[0;34m(\u001b[0m\u001b[0mself\u001b[0m\u001b[0;34m)\u001b[0m\u001b[0;34m:\u001b[0m\u001b[0;34m\u001b[0m\u001b[0;34m\u001b[0m\u001b[0m\n",
      "\u001b[0;32m/opt/spark/current/python/lib/pyspark.zip/pyspark/ml/base.py\u001b[0m in \u001b[0;36mfitSingleModel\u001b[0;34m(index)\u001b[0m\n\u001b[1;32m    101\u001b[0m \u001b[0;34m\u001b[0m\u001b[0m\n\u001b[1;32m    102\u001b[0m         \u001b[0;32mdef\u001b[0m \u001b[0mfitSingleModel\u001b[0m\u001b[0;34m(\u001b[0m\u001b[0mindex\u001b[0m\u001b[0;34m)\u001b[0m\u001b[0;34m:\u001b[0m\u001b[0;34m\u001b[0m\u001b[0;34m\u001b[0m\u001b[0m\n\u001b[0;32m--> 103\u001b[0;31m             \u001b[0;32mreturn\u001b[0m \u001b[0mestimator\u001b[0m\u001b[0;34m.\u001b[0m\u001b[0mfit\u001b[0m\u001b[0;34m(\u001b[0m\u001b[0mdataset\u001b[0m\u001b[0;34m,\u001b[0m \u001b[0mparamMaps\u001b[0m\u001b[0;34m[\u001b[0m\u001b[0mindex\u001b[0m\u001b[0;34m]\u001b[0m\u001b[0;34m)\u001b[0m\u001b[0;34m\u001b[0m\u001b[0;34m\u001b[0m\u001b[0m\n\u001b[0m\u001b[1;32m    104\u001b[0m \u001b[0;34m\u001b[0m\u001b[0m\n\u001b[1;32m    105\u001b[0m         \u001b[0;32mreturn\u001b[0m \u001b[0m_FitMultipleIterator\u001b[0m\u001b[0;34m(\u001b[0m\u001b[0mfitSingleModel\u001b[0m\u001b[0;34m,\u001b[0m \u001b[0mlen\u001b[0m\u001b[0;34m(\u001b[0m\u001b[0mparamMaps\u001b[0m\u001b[0;34m)\u001b[0m\u001b[0;34m)\u001b[0m\u001b[0;34m\u001b[0m\u001b[0;34m\u001b[0m\u001b[0m\n",
      "\u001b[0;32m/opt/spark/current/python/lib/pyspark.zip/pyspark/ml/base.py\u001b[0m in \u001b[0;36mfit\u001b[0;34m(self, dataset, params)\u001b[0m\n\u001b[1;32m    125\u001b[0m         \u001b[0;32melif\u001b[0m \u001b[0misinstance\u001b[0m\u001b[0;34m(\u001b[0m\u001b[0mparams\u001b[0m\u001b[0;34m,\u001b[0m \u001b[0mdict\u001b[0m\u001b[0;34m)\u001b[0m\u001b[0;34m:\u001b[0m\u001b[0;34m\u001b[0m\u001b[0;34m\u001b[0m\u001b[0m\n\u001b[1;32m    126\u001b[0m             \u001b[0;32mif\u001b[0m \u001b[0mparams\u001b[0m\u001b[0;34m:\u001b[0m\u001b[0;34m\u001b[0m\u001b[0;34m\u001b[0m\u001b[0m\n\u001b[0;32m--> 127\u001b[0;31m                 \u001b[0;32mreturn\u001b[0m \u001b[0mself\u001b[0m\u001b[0;34m.\u001b[0m\u001b[0mcopy\u001b[0m\u001b[0;34m(\u001b[0m\u001b[0mparams\u001b[0m\u001b[0;34m)\u001b[0m\u001b[0;34m.\u001b[0m\u001b[0m_fit\u001b[0m\u001b[0;34m(\u001b[0m\u001b[0mdataset\u001b[0m\u001b[0;34m)\u001b[0m\u001b[0;34m\u001b[0m\u001b[0;34m\u001b[0m\u001b[0m\n\u001b[0m\u001b[1;32m    128\u001b[0m             \u001b[0;32melse\u001b[0m\u001b[0;34m:\u001b[0m\u001b[0;34m\u001b[0m\u001b[0;34m\u001b[0m\u001b[0m\n\u001b[1;32m    129\u001b[0m                 \u001b[0;32mreturn\u001b[0m \u001b[0mself\u001b[0m\u001b[0;34m.\u001b[0m\u001b[0m_fit\u001b[0m\u001b[0;34m(\u001b[0m\u001b[0mdataset\u001b[0m\u001b[0;34m)\u001b[0m\u001b[0;34m\u001b[0m\u001b[0;34m\u001b[0m\u001b[0m\n",
      "\u001b[0;32m/opt/spark/current/python/lib/pyspark.zip/pyspark/ml/wrapper.py\u001b[0m in \u001b[0;36m_fit\u001b[0;34m(self, dataset)\u001b[0m\n\u001b[1;32m    319\u001b[0m \u001b[0;34m\u001b[0m\u001b[0m\n\u001b[1;32m    320\u001b[0m     \u001b[0;32mdef\u001b[0m \u001b[0m_fit\u001b[0m\u001b[0;34m(\u001b[0m\u001b[0mself\u001b[0m\u001b[0;34m,\u001b[0m \u001b[0mdataset\u001b[0m\u001b[0;34m)\u001b[0m\u001b[0;34m:\u001b[0m\u001b[0;34m\u001b[0m\u001b[0;34m\u001b[0m\u001b[0m\n\u001b[0;32m--> 321\u001b[0;31m         \u001b[0mjava_model\u001b[0m \u001b[0;34m=\u001b[0m \u001b[0mself\u001b[0m\u001b[0;34m.\u001b[0m\u001b[0m_fit_java\u001b[0m\u001b[0;34m(\u001b[0m\u001b[0mdataset\u001b[0m\u001b[0;34m)\u001b[0m\u001b[0;34m\u001b[0m\u001b[0;34m\u001b[0m\u001b[0m\n\u001b[0m\u001b[1;32m    322\u001b[0m         \u001b[0mmodel\u001b[0m \u001b[0;34m=\u001b[0m \u001b[0mself\u001b[0m\u001b[0;34m.\u001b[0m\u001b[0m_create_model\u001b[0m\u001b[0;34m(\u001b[0m\u001b[0mjava_model\u001b[0m\u001b[0;34m)\u001b[0m\u001b[0;34m\u001b[0m\u001b[0;34m\u001b[0m\u001b[0m\n\u001b[1;32m    323\u001b[0m         \u001b[0;32mreturn\u001b[0m \u001b[0mself\u001b[0m\u001b[0;34m.\u001b[0m\u001b[0m_copyValues\u001b[0m\u001b[0;34m(\u001b[0m\u001b[0mmodel\u001b[0m\u001b[0;34m)\u001b[0m\u001b[0;34m\u001b[0m\u001b[0;34m\u001b[0m\u001b[0m\n",
      "\u001b[0;32m/opt/spark/current/python/lib/pyspark.zip/pyspark/ml/wrapper.py\u001b[0m in \u001b[0;36m_fit_java\u001b[0;34m(self, dataset)\u001b[0m\n\u001b[1;32m    316\u001b[0m         \"\"\"\n\u001b[1;32m    317\u001b[0m         \u001b[0mself\u001b[0m\u001b[0;34m.\u001b[0m\u001b[0m_transfer_params_to_java\u001b[0m\u001b[0;34m(\u001b[0m\u001b[0;34m)\u001b[0m\u001b[0;34m\u001b[0m\u001b[0;34m\u001b[0m\u001b[0m\n\u001b[0;32m--> 318\u001b[0;31m         \u001b[0;32mreturn\u001b[0m \u001b[0mself\u001b[0m\u001b[0;34m.\u001b[0m\u001b[0m_java_obj\u001b[0m\u001b[0;34m.\u001b[0m\u001b[0mfit\u001b[0m\u001b[0;34m(\u001b[0m\u001b[0mdataset\u001b[0m\u001b[0;34m.\u001b[0m\u001b[0m_jdf\u001b[0m\u001b[0;34m)\u001b[0m\u001b[0;34m\u001b[0m\u001b[0;34m\u001b[0m\u001b[0m\n\u001b[0m\u001b[1;32m    319\u001b[0m \u001b[0;34m\u001b[0m\u001b[0m\n\u001b[1;32m    320\u001b[0m     \u001b[0;32mdef\u001b[0m \u001b[0m_fit\u001b[0m\u001b[0;34m(\u001b[0m\u001b[0mself\u001b[0m\u001b[0;34m,\u001b[0m \u001b[0mdataset\u001b[0m\u001b[0;34m)\u001b[0m\u001b[0;34m:\u001b[0m\u001b[0;34m\u001b[0m\u001b[0;34m\u001b[0m\u001b[0m\n",
      "\u001b[0;32m/opt/spark/current/python/lib/py4j-0.10.9-src.zip/py4j/java_gateway.py\u001b[0m in \u001b[0;36m__call__\u001b[0;34m(self, *args)\u001b[0m\n\u001b[1;32m   1302\u001b[0m \u001b[0;34m\u001b[0m\u001b[0m\n\u001b[1;32m   1303\u001b[0m         \u001b[0manswer\u001b[0m \u001b[0;34m=\u001b[0m \u001b[0mself\u001b[0m\u001b[0;34m.\u001b[0m\u001b[0mgateway_client\u001b[0m\u001b[0;34m.\u001b[0m\u001b[0msend_command\u001b[0m\u001b[0;34m(\u001b[0m\u001b[0mcommand\u001b[0m\u001b[0;34m)\u001b[0m\u001b[0;34m\u001b[0m\u001b[0;34m\u001b[0m\u001b[0m\n\u001b[0;32m-> 1304\u001b[0;31m         return_value = get_return_value(\n\u001b[0m\u001b[1;32m   1305\u001b[0m             answer, self.gateway_client, self.target_id, self.name)\n\u001b[1;32m   1306\u001b[0m \u001b[0;34m\u001b[0m\u001b[0m\n",
      "\u001b[0;32m/opt/spark/current/python/lib/pyspark.zip/pyspark/sql/utils.py\u001b[0m in \u001b[0;36mdeco\u001b[0;34m(*a, **kw)\u001b[0m\n\u001b[1;32m    126\u001b[0m     \u001b[0;32mdef\u001b[0m \u001b[0mdeco\u001b[0m\u001b[0;34m(\u001b[0m\u001b[0;34m*\u001b[0m\u001b[0ma\u001b[0m\u001b[0;34m,\u001b[0m \u001b[0;34m**\u001b[0m\u001b[0mkw\u001b[0m\u001b[0;34m)\u001b[0m\u001b[0;34m:\u001b[0m\u001b[0;34m\u001b[0m\u001b[0;34m\u001b[0m\u001b[0m\n\u001b[1;32m    127\u001b[0m         \u001b[0;32mtry\u001b[0m\u001b[0;34m:\u001b[0m\u001b[0;34m\u001b[0m\u001b[0;34m\u001b[0m\u001b[0m\n\u001b[0;32m--> 128\u001b[0;31m             \u001b[0;32mreturn\u001b[0m \u001b[0mf\u001b[0m\u001b[0;34m(\u001b[0m\u001b[0;34m*\u001b[0m\u001b[0ma\u001b[0m\u001b[0;34m,\u001b[0m \u001b[0;34m**\u001b[0m\u001b[0mkw\u001b[0m\u001b[0;34m)\u001b[0m\u001b[0;34m\u001b[0m\u001b[0;34m\u001b[0m\u001b[0m\n\u001b[0m\u001b[1;32m    129\u001b[0m         \u001b[0;32mexcept\u001b[0m \u001b[0mpy4j\u001b[0m\u001b[0;34m.\u001b[0m\u001b[0mprotocol\u001b[0m\u001b[0;34m.\u001b[0m\u001b[0mPy4JJavaError\u001b[0m \u001b[0;32mas\u001b[0m \u001b[0me\u001b[0m\u001b[0;34m:\u001b[0m\u001b[0;34m\u001b[0m\u001b[0;34m\u001b[0m\u001b[0m\n\u001b[1;32m    130\u001b[0m             \u001b[0mconverted\u001b[0m \u001b[0;34m=\u001b[0m \u001b[0mconvert_exception\u001b[0m\u001b[0;34m(\u001b[0m\u001b[0me\u001b[0m\u001b[0;34m.\u001b[0m\u001b[0mjava_exception\u001b[0m\u001b[0;34m)\u001b[0m\u001b[0;34m\u001b[0m\u001b[0;34m\u001b[0m\u001b[0m\n",
      "\u001b[0;32m/opt/spark/current/python/lib/py4j-0.10.9-src.zip/py4j/protocol.py\u001b[0m in \u001b[0;36mget_return_value\u001b[0;34m(answer, gateway_client, target_id, name)\u001b[0m\n\u001b[1;32m    324\u001b[0m             \u001b[0mvalue\u001b[0m \u001b[0;34m=\u001b[0m \u001b[0mOUTPUT_CONVERTER\u001b[0m\u001b[0;34m[\u001b[0m\u001b[0mtype\u001b[0m\u001b[0;34m]\u001b[0m\u001b[0;34m(\u001b[0m\u001b[0manswer\u001b[0m\u001b[0;34m[\u001b[0m\u001b[0;36m2\u001b[0m\u001b[0;34m:\u001b[0m\u001b[0;34m]\u001b[0m\u001b[0;34m,\u001b[0m \u001b[0mgateway_client\u001b[0m\u001b[0;34m)\u001b[0m\u001b[0;34m\u001b[0m\u001b[0;34m\u001b[0m\u001b[0m\n\u001b[1;32m    325\u001b[0m             \u001b[0;32mif\u001b[0m \u001b[0manswer\u001b[0m\u001b[0;34m[\u001b[0m\u001b[0;36m1\u001b[0m\u001b[0;34m]\u001b[0m \u001b[0;34m==\u001b[0m \u001b[0mREFERENCE_TYPE\u001b[0m\u001b[0;34m:\u001b[0m\u001b[0;34m\u001b[0m\u001b[0;34m\u001b[0m\u001b[0m\n\u001b[0;32m--> 326\u001b[0;31m                 raise Py4JJavaError(\n\u001b[0m\u001b[1;32m    327\u001b[0m                     \u001b[0;34m\"An error occurred while calling {0}{1}{2}.\\n\"\u001b[0m\u001b[0;34m.\u001b[0m\u001b[0;34m\u001b[0m\u001b[0;34m\u001b[0m\u001b[0m\n\u001b[1;32m    328\u001b[0m                     format(target_id, \".\", name), value)\n",
      "\u001b[0;31mPy4JJavaError\u001b[0m: An error occurred while calling o6620.fit.\n: java.util.NoSuchElementException: Failed to find a default value for layers\n\tat org.apache.spark.ml.param.Params.$anonfun$getOrDefault$2(params.scala:756)\n\tat scala.Option.getOrElse(Option.scala:189)\n\tat org.apache.spark.ml.param.Params.getOrDefault(params.scala:756)\n\tat org.apache.spark.ml.param.Params.getOrDefault$(params.scala:753)\n\tat org.apache.spark.ml.PipelineStage.getOrDefault(Pipeline.scala:41)\n\tat org.apache.spark.ml.param.Params.$(params.scala:762)\n\tat org.apache.spark.ml.param.Params.$$(params.scala:762)\n\tat org.apache.spark.ml.PipelineStage.$(Pipeline.scala:41)\n\tat org.apache.spark.ml.classification.MultilayerPerceptronClassifier.$anonfun$train$1(MultilayerPerceptronClassifier.scala:192)\n\tat org.apache.spark.ml.util.Instrumentation$.$anonfun$instrumented$1(Instrumentation.scala:191)\n\tat scala.util.Try$.apply(Try.scala:213)\n\tat org.apache.spark.ml.util.Instrumentation$.instrumented(Instrumentation.scala:191)\n\tat org.apache.spark.ml.classification.MultilayerPerceptronClassifier.train(MultilayerPerceptronClassifier.scala:186)\n\tat org.apache.spark.ml.classification.MultilayerPerceptronClassifier.train(MultilayerPerceptronClassifier.scala:95)\n\tat org.apache.spark.ml.Predictor.fit(Predictor.scala:150)\n\tat jdk.internal.reflect.GeneratedMethodAccessor165.invoke(Unknown Source)\n\tat java.base/jdk.internal.reflect.DelegatingMethodAccessorImpl.invoke(DelegatingMethodAccessorImpl.java:43)\n\tat java.base/java.lang.reflect.Method.invoke(Method.java:566)\n\tat py4j.reflection.MethodInvoker.invoke(MethodInvoker.java:244)\n\tat py4j.reflection.ReflectionEngine.invoke(ReflectionEngine.java:357)\n\tat py4j.Gateway.invoke(Gateway.java:282)\n\tat py4j.commands.AbstractCommand.invokeMethod(AbstractCommand.java:132)\n\tat py4j.commands.CallCommand.execute(CallCommand.java:79)\n\tat py4j.GatewayConnection.run(GatewayConnection.java:238)\n\tat java.base/java.lang.Thread.run(Thread.java:829)\n"
     ]
    }
   ],
   "source": [
    "# Create a GBT Classification model\n",
    "mlp = MultilayerPerceptronClassifier(labelCol='label', featuresCol='features')\n",
    "\n",
    "# Instantiate gbt evaluator\n",
    "mlp_evaluator = MulticlassClassificationEvaluator()\n",
    "\n",
    "# Create ParamGrid for Cross validation\n",
    "mlp_paramGrid = (ParamGridBuilder() \\\n",
    "               .addGrid(mlp.maxIter, [15, 30, 20, 10, 25]) \\\n",
    "               .build()            \n",
    "            )\n",
    "# Create 5-fold CrossValidator\n",
    "mlp_cv = CrossValidator(estimator = mlp,\n",
    "                      estimatorParamMaps = mlp_paramGrid,\n",
    "                      evaluator = mlp_evaluator,\n",
    "                      numFolds = 5)\n",
    "\n",
    "# Run cross validation\n",
    "mlp_cv_Model = mlp_cv.fit(X_train_final)\n",
    "print(mlp_cv_Model)"
   ]
  },
  {
   "cell_type": "markdown",
   "metadata": {},
   "source": [
    "## 7. Conclusions"
   ]
  },
  {
   "cell_type": "markdown",
   "metadata": {},
   "source": [
    "#### 7.1 Sumamry and key takeaways\n",
    "\n",
    "- I trained a base classifier using the Decision Tree Classifier API provided by PySpark MLlib. \n",
    "\n",
    "- I used ensembling techniques with the Random Forest Classifier with the K Fold Cross validation protocol to try and push the performance a bit further.\n",
    "\n",
    "- Overfitting became the main issue I was struggling with based on the training history observed. Of course as number of trees increased, the model was overfitting. I was not able to find any pruning methods implemented in PySpark. However, post-pruning, which involves growing the full tree, allowing it to overfit the data, and then removing some subtrees would be the ideal technique I would choose to tackle this problem. Some post pruning functions I read about from the literature include: \n",
    "\n",
    "    - Reduced-error (Quinlan, 83), \n",
    "    - Error-complexity (CART, 84), \n",
    "    - Pessimistic error (Quinlan, 86), \n",
    "    - Minimum description length (MDL, 96),\n",
    "    - Minimum error (Niblett and Bratko, 86), and\n",
    "    - Crtical value (Mingers, 87)\n",
    "\n",
    "- Further model development experimentation is required to fully maximize performance on this dataset.\n",
    " \n",
    "\n",
    "#### 7.2 Future considerations\n",
    "\n",
    "**Feature selection**: Good feature engineering can significantly improve the predictive performance of a model, making it more effective in predicting outcomes on unseen data.\n",
    "\n",
    "The importance of feature selection lies in the fact that the quality and relevance of the features used to train a model can have a comparable performance to the full set of features. In Big Data this importance becomes even more crucial. \n",
    "\n",
    "In subsequent iterations of model development I would consider implementing the following feature selection techniqies: \n",
    "- Feature Selection from Means and Variances\n",
    "- Feature Selection by Mutual Information\n",
    "- Feature Selection by Decision Trees\n",
    "\n",
    "**Hyperparameter Tuning**: Hyperparameter tuning is an essential step in developing accurate and effective machine learning models. It involves adjusting the values of model parameters that are not learned during training, such as number of trees in a random forest, depth, and so on. These parameters can significantly affect the model's performance, and tuning them can improve the model's accuracy, reduce overfitting, and make it more robust to unseen data.\n",
    "\n",
    "In future iterations of model development I could improve the performance of this model via hyperparameter tuning which will potentially lead to selecting the optimal hyperparameters for this problem.\n",
    "\n",
    "**Imbalanced dataset**: The dataset class distribution was skewed. In future iterations, I would move beyond monitoring specific metrics such as PRC, and apply other techniques such as oversampling or undersampling in order to experiment on performance if the dataset were to be balanced."
   ]
  },
  {
   "cell_type": "markdown",
   "metadata": {},
   "source": [
    "## 8. References"
   ]
  },
  {
   "cell_type": "markdown",
   "metadata": {},
   "source": [
    "1. [Tanzania National Development Vision 2025](http://www.tzonline.org/pdf/theTanzaniadevelopmentvision.pdf)\n",
    "\n",
    "2. [Pump it Up: Data Mining the Water Table](https://www.drivendata.org/competitions/7/pump-it-up-data-mining-the-water-table/page/25/#features_list)\n",
    "\n",
    "3. [Spark SQL](https://spark.apache.org/docs/latest/api/python/reference/pyspark.sql/index.html)\n",
    "\n",
    "4. [MLlib (DataFrame-based)](https://spark.apache.org/docs/latest/api/python/reference/pyspark.ml.html)\n",
    "\n",
    "5. [Spark Under the Hood: randomSplit() and sample() Inner Workings](https://medium.com/udemy-engineering/pyspark-under-the-hood-randomsplit-and-sample-inconsistencies-examined-7c6ec62644bc)\n",
    "\n",
    "6. [Regions of Tanzania](https://en.wikipedia.org/wiki/Regions_of_Tanzania)\n",
    "\n",
    "7. [One-hot encoding in PySpark](https://www.skytowner.com/explore/one_hot_encoding_in_pyspark)\n",
    "\n",
    "8. [Decision Tree Learning](https://www.eecs.yorku.ca/course_archive/2019-20/W/4412/lecnotes/pdf/dt2-2.pdf)\n",
    "\n",
    "9. [Functional Programming HOWTO](https://docs.python.org/3/howto/functional.html)\n",
    "\n",
    "10. [Learning PySpark (Codebase)](https://github.com/paulowe/learningPySpark)\n"
   ]
  },
  {
   "cell_type": "code",
   "execution_count": null,
   "metadata": {},
   "outputs": [],
   "source": []
  }
 ],
 "metadata": {
  "kernelspec": {
   "display_name": "PySpark",
   "language": "python",
   "name": "pyspark"
  },
  "language_info": {
   "codemirror_mode": {
    "name": "ipython",
    "version": 3
   },
   "file_extension": ".py",
   "mimetype": "text/x-python",
   "name": "python",
   "nbconvert_exporter": "python",
   "pygments_lexer": "ipython3",
   "version": "3.8.5"
  }
 },
 "nbformat": 4,
 "nbformat_minor": 4
}
