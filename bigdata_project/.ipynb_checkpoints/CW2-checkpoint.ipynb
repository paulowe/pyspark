{
 "cells": [
  {
   "cell_type": "markdown",
   "metadata": {},
   "source": [
    "## AI driven application for predicting faulty water pumps across Tanzania\n",
    "#### 1 Introduction\n",
    "\n",
    "AI can play an important role in addressing Tanzania’s water and sanitation crisis. 16 million people (28% of the population) lack access to safe water, and over half the population lack access to safely managed sanitation facilities. People living under these circumstances spend a significant amount of time traveling long distances to collect water. Other factors such as extreme weather events due to climate change create additional challenges for those living in poverty. [1] Although there are multiple waterpoints established, a lot of them are in need of repair while others have failed altogether. Therefore, there is a strong opportunity to improve maintenance of existing facilities and scale these efforts to meet the demand for a robust water infrastructure. \n",
    "\n",
    "#### 2 Objectives\n",
    "This project aims to leverage a data-driven approach to gain insights into and mitigate faulty water infrastructure in Tanzania. Specifically, the project will focus on the development of a powerful ensemble model that utilizes machine learning algorithms to accurately predict the operating conditions of water pumps across multiple water-points. The model will be trained on a large dataset of historical water pump sensor data, collected from Taarifa and the Tanzanian Ministry of Water.\n",
    "\n",
    "The developed ensemble model will take into account a range of variables, including water pump usage patterns, population around the well, water quality measurements, and maintenance records, to accurately predict the condition of the waterpoint as one of the following classes: functional, functional needs repair, or non functional. This predictive capability will enable proactive maintenance and repairs to be carried out, reducing the incidence of breakdowns and increasing the overall reliability of the water supply.\n",
    "\n",
    "In addition to the technical aspects of the project, close collaboration with local water authorities and communities to ensure the model is tailored to the specific needs and context of the Tanzanian water infrastructure can promote its adoption. This can be done by conducting surveys, identifying focus groups, and exploring other forms of community engagement to gain insights into the challenges and priorities of water users and stakeholders. Ultimately, the project aims to deliver tangible benefits to communities in Tanzania by improving the reliability and accessibility of safe water supplies.\n",
    "\n",
    "#### 3 Methodology\n",
    "The architecture below illustrates an overview of the methodology used in this project.\n",
    "\n",
    "<img></img>\n",
    "\n",
    "Data collection: The data collection process involves retrieving data from the Ministry of Water in Tanzania. The data is then stored on the  Hadoop Distributed File System (HDFS) within the University of London’s Lena cluster. This system is designed to store and manage large volumes of data across multiple servers, providing a scalable and fault-tolerant storage solution for big data applications. By utilizing this system, the project is able to efficiently collect and store a vast amount of data from multiple sources, which will be used to train and validate the machine learning models used in the project. Additionally, the use of HDFS ensures the data is secure and easily accessible, enabling future research and analysis on the same dataset.\n",
    "\n",
    "\n",
    "Exploratory data analysis: The exploratory data analysis (EDA) for this project will be conducted using the Spark execution engine, which is an open-source distributed computing system designed for big data processing. This will enable efficient processing of the large volumes of data collected. The EDA will involve an initial assessment of the quality and completeness of the dataset, as well as the identification and treatment of any missing data, outliers or anomalies. The Spark engine will also be used to perform statistical analysis to answer important questions and gain insights into the underlying patterns and relationships in the data. This analysis will include descriptive statistics, correlation analysis, and predictive modeling using machine learning algorithms. The results of the EDA and statistical analysis will inform the development of the machine learning models, enabling the project to meet its objective of accurately predicting the operating conditions of water pumps across multiple waterpoints in Tanzania.\n",
    "\n",
    "\n",
    "Data preprocessing: Before feeding the data to the machine learning model, a series of transformations will be performed on the dataset using functions coded in PySpark. PySpark is a Python library for Spark that enables scalable data processing and ML workflows. The ETL functions will be designed to clean and transform the raw data into a format that is suitable for training the ML models. This will involve a range of data cleaning and preprocessing steps,  including handling missing values, encoding categorical variables, and scaling features. The specific transformation will be informed by the insights retrieved after conducting the EDA. Additionally, feature engineering techniques will be applied to derive new features from the raw data, which will be used to improve the predictive performance of the ML models. The resulting dataset will be split into training and test sets, with the former used to train the ML models and the latter used to evaluate their performance. The PySpark-based ETL pipeline will enable efficient and scalable data processing, allowing for the processing of large datasets in a distributed computing environment.\n",
    "\n",
    "\n",
    "Modeling and hyperparameter tuning: The modeling approach involves testing out different ensemble models and searching for the best hyperparameters for each model. Ensemble models are a collection of multiple machine learning algorithms that are combined to improve the accuracy and robustness of the predictions. This approach will enable us to leverage the strengths of multiple models and improve the predictive performance of the overall system. We will experiment with different ensemble models, including bagging and boosting, using a range of machine learning algorithms such as Random Forest, and Gradient Boosting Machines. To optimize the performance of these models, we will use hyperparameter tuning techniques such as grid search and randomized search. These methods will help us to systematically search for the best combination of hyperparameters for each model, allowing us to fine-tune the models and achieve the best possible predictive performance on this dataset. This portion of the project will focus on using Spark MLlib, which is a scalable machine learning library for Spark that provides a range of distributed machine learning algorithms and tools.\n",
    "\n",
    "\n",
    "Model evaluation metrics: To evaluate the performance of the models for classification, we will test several standard metrics including accuracy, precision, recall, and F1-score. These metrics will enable us to quantify the predictive performance of the models and compare their effectiveness in detecting faulty water pumps. To ensure that the performance metrics are robust and reliable, we will use a rigorous approach to validate the model performance using K-fold cross-validation. This method involves splitting the data into K subsets and training the model on K-1 subsets while using the remaining subset for testing. This process is repeated K times, with each subset used for testing once. The results of each fold are averaged to provide an estimate of the model's performance. K-fold cross-validation will enable us to assess the generalizability of the models, providing a more reliable estimate of their performance on new, unseen data. This will help us to identify and address potential overfitting issues.\n",
    "\n",
    "#### 5 Expected Outcomes\n",
    "\n",
    "By using a data-driven approach to understand and mitigate faulty infrastructure in water wells, we can improve access to safe water for millions of people in Tanzania. The development of this powerful ensemble model capable of predicting the operating conditions of water pumps across multiple water-points will introduce new capabilities to proactively address faults and maintenance needs before they become critical, reducing downtime and improving the reliability of the water supply. The expected outcome is that this project will significantly improve the standard of living for all Tanzanians, and address the climate change challenges that affect basic infrastructure in the country. \n",
    "\n"
   ]
  },
  {
   "cell_type": "markdown",
   "metadata": {},
   "source": [
    "#### 6 Exploratory Data Analysis"
   ]
  },
  {
   "cell_type": "code",
   "execution_count": 77,
   "metadata": {},
   "outputs": [
    {
     "name": "stdout",
     "output_type": "stream",
     "text": [
      "Collecting seaborn\n",
      "  Downloading seaborn-0.12.2-py3-none-any.whl (293 kB)\n",
      "\u001b[K     |████████████████████████████████| 293 kB 39.9 MB/s eta 0:00:01\n",
      "\u001b[?25hRequirement already satisfied: numpy!=1.24.0,>=1.17 in /usr/local/lib/python3.8/dist-packages (from seaborn) (1.20.3)\n",
      "Collecting pandas>=0.25\n",
      "  Downloading pandas-1.5.3-cp38-cp38-manylinux_2_17_x86_64.manylinux2014_x86_64.whl (12.2 MB)\n",
      "\u001b[K     |████████████████████████████████| 12.2 MB 90.1 MB/s eta 0:00:01\n",
      "\u001b[?25hRequirement already satisfied: matplotlib!=3.6.1,>=3.1 in /usr/local/lib/python3.8/dist-packages (from seaborn) (3.4.2)\n",
      "Collecting pytz>=2020.1\n",
      "  Downloading pytz-2022.7.1-py2.py3-none-any.whl (499 kB)\n",
      "\u001b[K     |████████████████████████████████| 499 kB 55.5 MB/s eta 0:00:01\n",
      "\u001b[?25hRequirement already satisfied: python-dateutil>=2.8.1 in /usr/local/lib/python3.8/dist-packages (from pandas>=0.25->seaborn) (2.8.1)\n",
      "Requirement already satisfied: cycler>=0.10 in /usr/local/lib/python3.8/dist-packages (from matplotlib!=3.6.1,>=3.1->seaborn) (0.10.0)\n",
      "Requirement already satisfied: pillow>=6.2.0 in /usr/local/lib/python3.8/dist-packages (from matplotlib!=3.6.1,>=3.1->seaborn) (8.2.0)\n",
      "Requirement already satisfied: pyparsing>=2.2.1 in /usr/local/lib/python3.8/dist-packages (from matplotlib!=3.6.1,>=3.1->seaborn) (2.4.7)\n",
      "Requirement already satisfied: kiwisolver>=1.0.1 in /usr/local/lib/python3.8/dist-packages (from matplotlib!=3.6.1,>=3.1->seaborn) (1.3.1)\n",
      "Requirement already satisfied: six>=1.5 in /usr/lib/python3/dist-packages (from python-dateutil>=2.8.1->pandas>=0.25->seaborn) (1.14.0)\n",
      "Installing collected packages: pytz, pandas, seaborn\n",
      "Successfully installed pandas-1.5.3 pytz-2022.7.1 seaborn-0.12.2\n"
     ]
    }
   ],
   "source": [
    "!pip install seaborn"
   ]
  },
  {
   "cell_type": "code",
   "execution_count": 2,
   "metadata": {},
   "outputs": [],
   "source": [
    "import os\n",
    "import numpy as np\n",
    "import matplotlib.pyplot as plt\n",
    "\n",
    "import seaborn as sns\n",
    "# import bokeh.charts as chrt\n",
    "# from bokeh.io import output_notebook\n",
    "# PySpark Ch4 - 6 imports\n",
    "import pyspark\n",
    "from pyspark.sql import SparkSession\n",
    "import pyspark.sql.types as typ\n",
    "import pyspark.sql.functions as fn\n",
    "from pyspark.ml import Pipeline\n",
    "from pyspark.ml import PipelineModel\n",
    "import pyspark.mllib.stat as st\n",
    "import pyspark.mllib.feature as ft\n",
    "from pyspark.mllib.classification import LogisticRegressionWithLBFGS\n",
    "import pyspark.mllib.evaluation as ev\n",
    "from pyspark.mllib.tree import RandomForest\n",
    "import pyspark.ml.tuning as tune\n",
    "import warnings\n",
    "warnings.filterwarnings('ignore')"
   ]
  },
  {
   "cell_type": "markdown",
   "metadata": {},
   "source": [
    "**Create Spark session**"
   ]
  },
  {
   "cell_type": "code",
   "execution_count": 3,
   "metadata": {},
   "outputs": [],
   "source": [
    "spark = SparkSession \\\n",
    "    .builder \\\n",
    "    .appName(\"waternet\") \\\n",
    "    .getOrCreate()"
   ]
  },
  {
   "cell_type": "markdown",
   "metadata": {},
   "source": [
    "**Import data**"
   ]
  },
  {
   "cell_type": "code",
   "execution_count": 4,
   "metadata": {},
   "outputs": [],
   "source": [
    "hdfs_filepath = \"hdfs_data/cw2/data\"\n",
    "X = spark.read.options(header=True).csv(f\"{hdfs_filepath}/training_values.csv\")\n",
    "y = spark.read.options(header=True).csv(f\"{hdfs_filepath}/training_labels.csv\")"
   ]
  },
  {
   "cell_type": "code",
   "execution_count": 5,
   "metadata": {},
   "outputs": [],
   "source": [
    "test = spark.read.options(header=True).csv(f\"{hdfs_filepath}/test_values.csv\")"
   ]
  },
  {
   "cell_type": "code",
   "execution_count": 6,
   "metadata": {
    "scrolled": true
   },
   "outputs": [
    {
     "name": "stdout",
     "output_type": "stream",
     "text": [
      "root\n",
      " |-- id: string (nullable = true)\n",
      " |-- amount_tsh: string (nullable = true)\n",
      " |-- date_recorded: string (nullable = true)\n",
      " |-- funder: string (nullable = true)\n",
      " |-- gps_height: string (nullable = true)\n",
      " |-- installer: string (nullable = true)\n",
      " |-- longitude: string (nullable = true)\n",
      " |-- latitude: string (nullable = true)\n",
      " |-- wpt_name: string (nullable = true)\n",
      " |-- num_private: string (nullable = true)\n",
      " |-- basin: string (nullable = true)\n",
      " |-- subvillage: string (nullable = true)\n",
      " |-- region: string (nullable = true)\n",
      " |-- region_code: string (nullable = true)\n",
      " |-- district_code: string (nullable = true)\n",
      " |-- lga: string (nullable = true)\n",
      " |-- ward: string (nullable = true)\n",
      " |-- population: string (nullable = true)\n",
      " |-- public_meeting: string (nullable = true)\n",
      " |-- recorded_by: string (nullable = true)\n",
      " |-- scheme_management: string (nullable = true)\n",
      " |-- scheme_name: string (nullable = true)\n",
      " |-- permit: string (nullable = true)\n",
      " |-- construction_year: string (nullable = true)\n",
      " |-- extraction_type: string (nullable = true)\n",
      " |-- extraction_type_group: string (nullable = true)\n",
      " |-- extraction_type_class: string (nullable = true)\n",
      " |-- management: string (nullable = true)\n",
      " |-- management_group: string (nullable = true)\n",
      " |-- payment: string (nullable = true)\n",
      " |-- payment_type: string (nullable = true)\n",
      " |-- water_quality: string (nullable = true)\n",
      " |-- quality_group: string (nullable = true)\n",
      " |-- quantity: string (nullable = true)\n",
      " |-- quantity_group: string (nullable = true)\n",
      " |-- source: string (nullable = true)\n",
      " |-- source_type: string (nullable = true)\n",
      " |-- source_class: string (nullable = true)\n",
      " |-- waterpoint_type: string (nullable = true)\n",
      " |-- waterpoint_type_group: string (nullable = true)\n",
      "\n",
      "root\n",
      " |-- id: string (nullable = true)\n",
      " |-- amount_tsh: string (nullable = true)\n",
      " |-- date_recorded: string (nullable = true)\n",
      " |-- funder: string (nullable = true)\n",
      " |-- gps_height: string (nullable = true)\n",
      " |-- installer: string (nullable = true)\n",
      " |-- longitude: string (nullable = true)\n",
      " |-- latitude: string (nullable = true)\n",
      " |-- wpt_name: string (nullable = true)\n",
      " |-- num_private: string (nullable = true)\n",
      " |-- basin: string (nullable = true)\n",
      " |-- subvillage: string (nullable = true)\n",
      " |-- region: string (nullable = true)\n",
      " |-- region_code: string (nullable = true)\n",
      " |-- district_code: string (nullable = true)\n",
      " |-- lga: string (nullable = true)\n",
      " |-- ward: string (nullable = true)\n",
      " |-- population: string (nullable = true)\n",
      " |-- public_meeting: string (nullable = true)\n",
      " |-- recorded_by: string (nullable = true)\n",
      " |-- scheme_management: string (nullable = true)\n",
      " |-- scheme_name: string (nullable = true)\n",
      " |-- permit: string (nullable = true)\n",
      " |-- construction_year: string (nullable = true)\n",
      " |-- extraction_type: string (nullable = true)\n",
      " |-- extraction_type_group: string (nullable = true)\n",
      " |-- extraction_type_class: string (nullable = true)\n",
      " |-- management: string (nullable = true)\n",
      " |-- management_group: string (nullable = true)\n",
      " |-- payment: string (nullable = true)\n",
      " |-- payment_type: string (nullable = true)\n",
      " |-- water_quality: string (nullable = true)\n",
      " |-- quality_group: string (nullable = true)\n",
      " |-- quantity: string (nullable = true)\n",
      " |-- quantity_group: string (nullable = true)\n",
      " |-- source: string (nullable = true)\n",
      " |-- source_type: string (nullable = true)\n",
      " |-- source_class: string (nullable = true)\n",
      " |-- waterpoint_type: string (nullable = true)\n",
      " |-- waterpoint_type_group: string (nullable = true)\n",
      "\n"
     ]
    },
    {
     "data": {
      "text/plain": [
       "True"
      ]
     },
     "execution_count": 6,
     "metadata": {},
     "output_type": "execute_result"
    }
   ],
   "source": [
    "test.printSchema() == X.printSchema()"
   ]
  },
  {
   "cell_type": "code",
   "execution_count": 7,
   "metadata": {
    "scrolled": true
   },
   "outputs": [
    {
     "name": "stdout",
     "output_type": "stream",
     "text": [
      "root\n",
      " |-- id: string (nullable = true)\n",
      " |-- amount_tsh: string (nullable = true)\n",
      " |-- date_recorded: string (nullable = true)\n",
      " |-- funder: string (nullable = true)\n",
      " |-- gps_height: string (nullable = true)\n",
      " |-- installer: string (nullable = true)\n",
      " |-- longitude: string (nullable = true)\n",
      " |-- latitude: string (nullable = true)\n",
      " |-- wpt_name: string (nullable = true)\n",
      " |-- num_private: string (nullable = true)\n",
      " |-- basin: string (nullable = true)\n",
      " |-- subvillage: string (nullable = true)\n",
      " |-- region: string (nullable = true)\n",
      " |-- region_code: string (nullable = true)\n",
      " |-- district_code: string (nullable = true)\n",
      " |-- lga: string (nullable = true)\n",
      " |-- ward: string (nullable = true)\n",
      " |-- population: string (nullable = true)\n",
      " |-- public_meeting: string (nullable = true)\n",
      " |-- recorded_by: string (nullable = true)\n",
      " |-- scheme_management: string (nullable = true)\n",
      " |-- scheme_name: string (nullable = true)\n",
      " |-- permit: string (nullable = true)\n",
      " |-- construction_year: string (nullable = true)\n",
      " |-- extraction_type: string (nullable = true)\n",
      " |-- extraction_type_group: string (nullable = true)\n",
      " |-- extraction_type_class: string (nullable = true)\n",
      " |-- management: string (nullable = true)\n",
      " |-- management_group: string (nullable = true)\n",
      " |-- payment: string (nullable = true)\n",
      " |-- payment_type: string (nullable = true)\n",
      " |-- water_quality: string (nullable = true)\n",
      " |-- quality_group: string (nullable = true)\n",
      " |-- quantity: string (nullable = true)\n",
      " |-- quantity_group: string (nullable = true)\n",
      " |-- source: string (nullable = true)\n",
      " |-- source_type: string (nullable = true)\n",
      " |-- source_class: string (nullable = true)\n",
      " |-- waterpoint_type: string (nullable = true)\n",
      " |-- waterpoint_type_group: string (nullable = true)\n",
      " |-- status_group: string (nullable = true)\n",
      "\n"
     ]
    }
   ],
   "source": [
    "# Concatenate X and y to create a single Pyspark dataframe\n",
    "train = X.join(y, on=[\"id\"])\n",
    "train.printSchema()"
   ]
  },
  {
   "cell_type": "code",
   "execution_count": 8,
   "metadata": {
    "scrolled": false
   },
   "outputs": [
    {
     "name": "stdout",
     "output_type": "stream",
     "text": [
      "+--------------------+-----+\n",
      "|        status_group|count|\n",
      "+--------------------+-----+\n",
      "|functional needs ...| 4317|\n",
      "|      non functional|22824|\n",
      "|          functional|32259|\n",
      "+--------------------+-----+\n",
      "\n"
     ]
    }
   ],
   "source": [
    "# Analyze value counts of the label\n",
    "class_distribution = train.groupBy('status_group').count().orderBy('count')\n",
    "class_distribution.show()"
   ]
  },
  {
   "cell_type": "code",
   "execution_count": 9,
   "metadata": {},
   "outputs": [
    {
     "data": {
      "image/png": "[encoded data removed]",
      "text/plain": [
       "<Figure size 432x288 with 1 Axes>"
      ]
     },
     "metadata": {
      "needs_background": "light"
     },
     "output_type": "display_data"
    }
   ],
   "source": [
    "# These frequency counts are not big data, we can convert to numpy array for plotting with matplotlib\n",
    "import matplotlib.pyplot as plt\n",
    "fig, ax = plt.subplots()\n",
    "\n",
    "counts = class_distribution.select('count').collect()\n",
    "labels = class_distribution.select('status_group').collect()\n",
    "bar_colors = ['tab:red', 'tab:green', 'tab:orange']\n",
    "\n",
    "ax.bar(np.array(labels).flatten(), np.array(counts).flatten(), color=bar_colors)\n",
    "ax.set_ylabel('Class frequency')\n",
    "ax.set_title('Class distribution on training set')\n",
    "plt.show()"
   ]
  },
  {
   "cell_type": "markdown",
   "metadata": {},
   "source": [
    "We observe a class imbalance in the data distribution. This needs to be addressed during modelling. "
   ]
  },
  {
   "cell_type": "code",
   "execution_count": 10,
   "metadata": {
    "scrolled": false
   },
   "outputs": [
    {
     "name": "stdout",
     "output_type": "stream",
     "text": [
      "+-------+------------------+-----------------+------------------+------------------+\n",
      "|summary|        amount_tsh|        longitude|        population| construction_year|\n",
      "+-------+------------------+-----------------+------------------+------------------+\n",
      "|  count|             59400|            59400|             59400|             59400|\n",
      "|   mean| 317.6503846801347|34.07742669202857|179.90998316498317|1300.6524747474748|\n",
      "| stddev|2997.5745581421693|6.567431845646534| 471.4821757384808| 951.6205473151731|\n",
      "|    min|               0.0|              0.0|                 0|                 0|\n",
      "|    max|            9000.0|      40.34519307|               990|              2013|\n",
      "+-------+------------------+-----------------+------------------+------------------+\n",
      "\n"
     ]
    }
   ],
   "source": [
    "train.describe('amount_tsh', 'longitude', 'population', 'construction_year').show()"
   ]
  },
  {
   "cell_type": "code",
   "execution_count": 12,
   "metadata": {},
   "outputs": [],
   "source": [
    "def plot_distribution(col, name):\n",
    "    col = np.array(train.select(name).collect()).flatten()\n",
    "    sns.set_context(\"paper\")\n",
    "    plt.figure(figsize=(7,4))\n",
    "    sns.distplot(col)\n",
    "    plt.savefig(f'{name}.png', dpi=300, bbox_inches='tight')\n",
    "    fig.show()\n",
    "    "
   ]
  },
  {
   "cell_type": "markdown",
   "metadata": {},
   "source": [
    "## ```longitude```\n",
    "\n",
    "The minimum longitude in this dataset is 0. However longitudes in Tanzania should be in the 29-40 range. This requires handling of 0 values to be treated as missing values."
   ]
  },
  {
   "cell_type": "code",
   "execution_count": 13,
   "metadata": {},
   "outputs": [
    {
     "data": {
      "image/png": "[encoded data removed]",
      "text/plain": [
       "<Figure size 504x288 with 1 Axes>"
      ]
     },
     "metadata": {
      "needs_background": "light"
     },
     "output_type": "display_data"
    }
   ],
   "source": [
    "longitudes = np.array(train.select('longitude').collect()).flatten()\n",
    "plot_distribution(longitudes, 'longitude')"
   ]
  },
  {
   "cell_type": "markdown",
   "metadata": {},
   "source": [
    "## ```amount_tsh```\n",
    "amount_tsh is the total static head. This is the amount of water available to a waterpoint"
   ]
  },
  {
   "cell_type": "code",
   "execution_count": 14,
   "metadata": {
    "scrolled": true
   },
   "outputs": [
    {
     "data": {
      "image/png": "[encoded data removed]",
      "text/plain": [
       "<Figure size 504x288 with 1 Axes>"
      ]
     },
     "metadata": {
      "needs_background": "light"
     },
     "output_type": "display_data"
    }
   ],
   "source": [
    "amounts = np.array(train.select('amount_tsh').collect()).flatten()\n",
    "plot_distribution(amounts, 'amount_tsh')"
   ]
  },
  {
   "cell_type": "code",
   "execution_count": 36,
   "metadata": {},
   "outputs": [
    {
     "data": {
      "text/plain": [
       "0.701060606060606"
      ]
     },
     "execution_count": 36,
     "metadata": {},
     "output_type": "execute_result"
    }
   ],
   "source": [
    "count_of_zero_tsh = len(train.filter('amount_tsh = 0').collect())\n",
    "count_of_all_waterpoints = len(train.select('amount_tsh').collect())\n",
    "count_of_zero_tsh / count_of_all_waterpoints"
   ]
  },
  {
   "cell_type": "markdown",
   "metadata": {},
   "source": [
    "About 70% of all waterpoints in the country have no water available. That is, their total static head is 0"
   ]
  },
  {
   "cell_type": "code",
   "execution_count": 37,
   "metadata": {},
   "outputs": [
    {
     "data": {
      "text/plain": [
       "0.6108992839207663"
      ]
     },
     "execution_count": 37,
     "metadata": {},
     "output_type": "execute_result"
    }
   ],
   "source": [
    "count_of_funtional_waterpoints = len(train.filter(train.status_group == \"functional\").collect())\n",
    "count_of_functional_and_zero_tsh = len(train.filter((train.amount_tsh == 0) & (train.status_group == \"functional\")).collect())\n",
    "count_of_functional_and_zero_tsh/count_of_funtional_waterpoints\n"
   ]
  },
  {
   "cell_type": "markdown",
   "metadata": {},
   "source": [
    "Additionally, we observe that out of all the waterpoints classified as \"functional\", over 60% actually have no water available. "
   ]
  },
  {
   "cell_type": "code",
   "execution_count": 38,
   "metadata": {
    "scrolled": true
   },
   "outputs": [
    {
     "name": "stdout",
     "output_type": "stream",
     "text": [
      "+--------------------+-----+\n",
      "|        status_group|count|\n",
      "+--------------------+-----+\n",
      "|functional needs ...| 3048|\n",
      "|      non functional|18888|\n",
      "|          functional|19707|\n",
      "+--------------------+-----+\n",
      "\n"
     ]
    }
   ],
   "source": [
    "train.filter((train.amount_tsh == 0)).groupBy('status_group').count().orderBy('count').show()"
   ]
  },
  {
   "cell_type": "code",
   "execution_count": 41,
   "metadata": {},
   "outputs": [
    {
     "data": {
      "text/plain": [
       "0.47323679850154887"
      ]
     },
     "execution_count": 41,
     "metadata": {},
     "output_type": "execute_result"
    }
   ],
   "source": [
    "count_of_functional_and_zero_tsh/count_of_zero_tsh"
   ]
  },
  {
   "cell_type": "markdown",
   "metadata": {},
   "source": [
    "And close to 50% of all waterpoints with zero totals static head are categorized as functional.\n",
    "\n",
    "This raises some questions regarding the data and utility of this feature"
   ]
  },
  {
   "cell_type": "code",
   "execution_count": null,
   "metadata": {},
   "outputs": [],
   "source": []
  },
  {
   "cell_type": "code",
   "execution_count": null,
   "metadata": {},
   "outputs": [],
   "source": []
  },
  {
   "cell_type": "code",
   "execution_count": null,
   "metadata": {},
   "outputs": [],
   "source": []
  },
  {
   "cell_type": "code",
   "execution_count": null,
   "metadata": {},
   "outputs": [],
   "source": []
  },
  {
   "cell_type": "code",
   "execution_count": null,
   "metadata": {},
   "outputs": [],
   "source": []
  },
  {
   "cell_type": "code",
   "execution_count": null,
   "metadata": {},
   "outputs": [],
   "source": []
  }
 ],
 "metadata": {
  "kernelspec": {
   "display_name": "PySpark",
   "language": "python",
   "name": "pyspark"
  },
  "language_info": {
   "codemirror_mode": {
    "name": "ipython",
    "version": 3
   },
   "file_extension": ".py",
   "mimetype": "text/x-python",
   "name": "python",
   "nbconvert_exporter": "python",
   "pygments_lexer": "ipython3",
   "version": "3.8.5"
  }
 },
 "nbformat": 4,
 "nbformat_minor": 4
}
